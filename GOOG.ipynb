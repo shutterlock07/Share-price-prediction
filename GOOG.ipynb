{
 "cells": [
  {
   "cell_type": "code",
   "execution_count": 1,
   "id": "ab90e25a",
   "metadata": {},
   "outputs": [],
   "source": [
    "import pandas as pd\n",
    "import pandas_datareader as pdr\n",
    "import numpy as np"
   ]
  },
  {
   "cell_type": "code",
   "execution_count": 2,
   "id": "e47c66a0",
   "metadata": {},
   "outputs": [
    {
     "name": "stdout",
     "output_type": "stream",
     "text": [
      "24d1fa8f1e68bedf4ca5a9d02fd58834bbc25ac3\n"
     ]
    }
   ],
   "source": [
    "key = '24d1fa8f1e68bedf4ca5a9d02fd58834bbc25ac3'\n",
    "print(key)"
   ]
  },
  {
   "cell_type": "code",
   "execution_count": 3,
   "id": "d689631b",
   "metadata": {},
   "outputs": [],
   "source": [
    "df = pdr.get_data_tiingo('GOOG', api_key = key)"
   ]
  },
  {
   "cell_type": "code",
   "execution_count": 4,
   "id": "9620cd52",
   "metadata": {},
   "outputs": [],
   "source": [
    "df.to_csv('GOOG.csv')"
   ]
  },
  {
   "cell_type": "code",
   "execution_count": 5,
   "id": "204477e8",
   "metadata": {},
   "outputs": [],
   "source": [
    "df = pd.read_csv('GOOG.csv')"
   ]
  },
  {
   "cell_type": "code",
   "execution_count": 6,
   "id": "586f081e",
   "metadata": {},
   "outputs": [
    {
     "data": {
      "text/html": [
       "<div>\n",
       "<style scoped>\n",
       "    .dataframe tbody tr th:only-of-type {\n",
       "        vertical-align: middle;\n",
       "    }\n",
       "\n",
       "    .dataframe tbody tr th {\n",
       "        vertical-align: top;\n",
       "    }\n",
       "\n",
       "    .dataframe thead th {\n",
       "        text-align: right;\n",
       "    }\n",
       "</style>\n",
       "<table border=\"1\" class=\"dataframe\">\n",
       "  <thead>\n",
       "    <tr style=\"text-align: right;\">\n",
       "      <th></th>\n",
       "      <th>symbol</th>\n",
       "      <th>date</th>\n",
       "      <th>close</th>\n",
       "      <th>high</th>\n",
       "      <th>low</th>\n",
       "      <th>open</th>\n",
       "      <th>volume</th>\n",
       "      <th>adjClose</th>\n",
       "      <th>adjHigh</th>\n",
       "      <th>adjLow</th>\n",
       "      <th>adjOpen</th>\n",
       "      <th>adjVolume</th>\n",
       "      <th>divCash</th>\n",
       "      <th>splitFactor</th>\n",
       "    </tr>\n",
       "  </thead>\n",
       "  <tbody>\n",
       "    <tr>\n",
       "      <th>0</th>\n",
       "      <td>GOOG</td>\n",
       "      <td>2016-05-12 00:00:00+00:00</td>\n",
       "      <td>713.31</td>\n",
       "      <td>719.2500</td>\n",
       "      <td>709.00</td>\n",
       "      <td>717.06</td>\n",
       "      <td>1361332</td>\n",
       "      <td>713.31</td>\n",
       "      <td>719.2500</td>\n",
       "      <td>709.00</td>\n",
       "      <td>717.06</td>\n",
       "      <td>1361332</td>\n",
       "      <td>0.0</td>\n",
       "      <td>1.0</td>\n",
       "    </tr>\n",
       "    <tr>\n",
       "      <th>1</th>\n",
       "      <td>GOOG</td>\n",
       "      <td>2016-05-13 00:00:00+00:00</td>\n",
       "      <td>710.83</td>\n",
       "      <td>716.6619</td>\n",
       "      <td>709.26</td>\n",
       "      <td>711.93</td>\n",
       "      <td>1314499</td>\n",
       "      <td>710.83</td>\n",
       "      <td>716.6619</td>\n",
       "      <td>709.26</td>\n",
       "      <td>711.93</td>\n",
       "      <td>1314499</td>\n",
       "      <td>0.0</td>\n",
       "      <td>1.0</td>\n",
       "    </tr>\n",
       "    <tr>\n",
       "      <th>2</th>\n",
       "      <td>GOOG</td>\n",
       "      <td>2016-05-16 00:00:00+00:00</td>\n",
       "      <td>716.49</td>\n",
       "      <td>718.4800</td>\n",
       "      <td>705.65</td>\n",
       "      <td>709.13</td>\n",
       "      <td>1317069</td>\n",
       "      <td>716.49</td>\n",
       "      <td>718.4800</td>\n",
       "      <td>705.65</td>\n",
       "      <td>709.13</td>\n",
       "      <td>1317069</td>\n",
       "      <td>0.0</td>\n",
       "      <td>1.0</td>\n",
       "    </tr>\n",
       "    <tr>\n",
       "      <th>3</th>\n",
       "      <td>GOOG</td>\n",
       "      <td>2016-05-17 00:00:00+00:00</td>\n",
       "      <td>706.23</td>\n",
       "      <td>721.5200</td>\n",
       "      <td>704.11</td>\n",
       "      <td>715.99</td>\n",
       "      <td>2001225</td>\n",
       "      <td>706.23</td>\n",
       "      <td>721.5200</td>\n",
       "      <td>704.11</td>\n",
       "      <td>715.99</td>\n",
       "      <td>2001225</td>\n",
       "      <td>0.0</td>\n",
       "      <td>1.0</td>\n",
       "    </tr>\n",
       "    <tr>\n",
       "      <th>4</th>\n",
       "      <td>GOOG</td>\n",
       "      <td>2016-05-18 00:00:00+00:00</td>\n",
       "      <td>706.63</td>\n",
       "      <td>711.6000</td>\n",
       "      <td>700.63</td>\n",
       "      <td>703.67</td>\n",
       "      <td>1766836</td>\n",
       "      <td>706.63</td>\n",
       "      <td>711.6000</td>\n",
       "      <td>700.63</td>\n",
       "      <td>703.67</td>\n",
       "      <td>1766836</td>\n",
       "      <td>0.0</td>\n",
       "      <td>1.0</td>\n",
       "    </tr>\n",
       "  </tbody>\n",
       "</table>\n",
       "</div>"
      ],
      "text/plain": [
       "  symbol                       date   close      high     low    open  \\\n",
       "0   GOOG  2016-05-12 00:00:00+00:00  713.31  719.2500  709.00  717.06   \n",
       "1   GOOG  2016-05-13 00:00:00+00:00  710.83  716.6619  709.26  711.93   \n",
       "2   GOOG  2016-05-16 00:00:00+00:00  716.49  718.4800  705.65  709.13   \n",
       "3   GOOG  2016-05-17 00:00:00+00:00  706.23  721.5200  704.11  715.99   \n",
       "4   GOOG  2016-05-18 00:00:00+00:00  706.63  711.6000  700.63  703.67   \n",
       "\n",
       "    volume  adjClose   adjHigh  adjLow  adjOpen  adjVolume  divCash  \\\n",
       "0  1361332    713.31  719.2500  709.00   717.06    1361332      0.0   \n",
       "1  1314499    710.83  716.6619  709.26   711.93    1314499      0.0   \n",
       "2  1317069    716.49  718.4800  705.65   709.13    1317069      0.0   \n",
       "3  2001225    706.23  721.5200  704.11   715.99    2001225      0.0   \n",
       "4  1766836    706.63  711.6000  700.63   703.67    1766836      0.0   \n",
       "\n",
       "   splitFactor  \n",
       "0          1.0  \n",
       "1          1.0  \n",
       "2          1.0  \n",
       "3          1.0  \n",
       "4          1.0  "
      ]
     },
     "execution_count": 6,
     "metadata": {},
     "output_type": "execute_result"
    }
   ],
   "source": [
    "df.head()"
   ]
  },
  {
   "cell_type": "code",
   "execution_count": 7,
   "id": "ceaca388",
   "metadata": {},
   "outputs": [
    {
     "data": {
      "text/html": [
       "<div>\n",
       "<style scoped>\n",
       "    .dataframe tbody tr th:only-of-type {\n",
       "        vertical-align: middle;\n",
       "    }\n",
       "\n",
       "    .dataframe tbody tr th {\n",
       "        vertical-align: top;\n",
       "    }\n",
       "\n",
       "    .dataframe thead th {\n",
       "        text-align: right;\n",
       "    }\n",
       "</style>\n",
       "<table border=\"1\" class=\"dataframe\">\n",
       "  <thead>\n",
       "    <tr style=\"text-align: right;\">\n",
       "      <th></th>\n",
       "      <th>symbol</th>\n",
       "      <th>date</th>\n",
       "      <th>close</th>\n",
       "      <th>high</th>\n",
       "      <th>low</th>\n",
       "      <th>open</th>\n",
       "      <th>volume</th>\n",
       "      <th>adjClose</th>\n",
       "      <th>adjHigh</th>\n",
       "      <th>adjLow</th>\n",
       "      <th>adjOpen</th>\n",
       "      <th>adjVolume</th>\n",
       "      <th>divCash</th>\n",
       "      <th>splitFactor</th>\n",
       "    </tr>\n",
       "  </thead>\n",
       "  <tbody>\n",
       "    <tr>\n",
       "      <th>1252</th>\n",
       "      <td>GOOG</td>\n",
       "      <td>2021-05-04 00:00:00+00:00</td>\n",
       "      <td>2354.25</td>\n",
       "      <td>2379.26</td>\n",
       "      <td>2311.7000</td>\n",
       "      <td>2369.74</td>\n",
       "      <td>1756015</td>\n",
       "      <td>2354.25</td>\n",
       "      <td>2379.26</td>\n",
       "      <td>2311.7000</td>\n",
       "      <td>2369.74</td>\n",
       "      <td>1756015</td>\n",
       "      <td>0.0</td>\n",
       "      <td>1.0</td>\n",
       "    </tr>\n",
       "    <tr>\n",
       "      <th>1253</th>\n",
       "      <td>GOOG</td>\n",
       "      <td>2021-05-05 00:00:00+00:00</td>\n",
       "      <td>2356.74</td>\n",
       "      <td>2382.20</td>\n",
       "      <td>2351.4100</td>\n",
       "      <td>2368.42</td>\n",
       "      <td>1090275</td>\n",
       "      <td>2356.74</td>\n",
       "      <td>2382.20</td>\n",
       "      <td>2351.4100</td>\n",
       "      <td>2368.42</td>\n",
       "      <td>1090275</td>\n",
       "      <td>0.0</td>\n",
       "      <td>1.0</td>\n",
       "    </tr>\n",
       "    <tr>\n",
       "      <th>1254</th>\n",
       "      <td>GOOG</td>\n",
       "      <td>2021-05-06 00:00:00+00:00</td>\n",
       "      <td>2381.35</td>\n",
       "      <td>2382.71</td>\n",
       "      <td>2342.3382</td>\n",
       "      <td>2350.64</td>\n",
       "      <td>1030859</td>\n",
       "      <td>2381.35</td>\n",
       "      <td>2382.71</td>\n",
       "      <td>2342.3382</td>\n",
       "      <td>2350.64</td>\n",
       "      <td>1030859</td>\n",
       "      <td>0.0</td>\n",
       "      <td>1.0</td>\n",
       "    </tr>\n",
       "    <tr>\n",
       "      <th>1255</th>\n",
       "      <td>GOOG</td>\n",
       "      <td>2021-05-07 00:00:00+00:00</td>\n",
       "      <td>2398.69</td>\n",
       "      <td>2416.41</td>\n",
       "      <td>2390.0000</td>\n",
       "      <td>2400.00</td>\n",
       "      <td>1163892</td>\n",
       "      <td>2398.69</td>\n",
       "      <td>2416.41</td>\n",
       "      <td>2390.0000</td>\n",
       "      <td>2400.00</td>\n",
       "      <td>1163892</td>\n",
       "      <td>0.0</td>\n",
       "      <td>1.0</td>\n",
       "    </tr>\n",
       "    <tr>\n",
       "      <th>1256</th>\n",
       "      <td>GOOG</td>\n",
       "      <td>2021-05-10 00:00:00+00:00</td>\n",
       "      <td>2341.66</td>\n",
       "      <td>2378.00</td>\n",
       "      <td>2334.7300</td>\n",
       "      <td>2374.89</td>\n",
       "      <td>1300271</td>\n",
       "      <td>2341.66</td>\n",
       "      <td>2378.00</td>\n",
       "      <td>2334.7300</td>\n",
       "      <td>2374.89</td>\n",
       "      <td>1300271</td>\n",
       "      <td>0.0</td>\n",
       "      <td>1.0</td>\n",
       "    </tr>\n",
       "  </tbody>\n",
       "</table>\n",
       "</div>"
      ],
      "text/plain": [
       "     symbol                       date    close     high        low     open  \\\n",
       "1252   GOOG  2021-05-04 00:00:00+00:00  2354.25  2379.26  2311.7000  2369.74   \n",
       "1253   GOOG  2021-05-05 00:00:00+00:00  2356.74  2382.20  2351.4100  2368.42   \n",
       "1254   GOOG  2021-05-06 00:00:00+00:00  2381.35  2382.71  2342.3382  2350.64   \n",
       "1255   GOOG  2021-05-07 00:00:00+00:00  2398.69  2416.41  2390.0000  2400.00   \n",
       "1256   GOOG  2021-05-10 00:00:00+00:00  2341.66  2378.00  2334.7300  2374.89   \n",
       "\n",
       "       volume  adjClose  adjHigh     adjLow  adjOpen  adjVolume  divCash  \\\n",
       "1252  1756015   2354.25  2379.26  2311.7000  2369.74    1756015      0.0   \n",
       "1253  1090275   2356.74  2382.20  2351.4100  2368.42    1090275      0.0   \n",
       "1254  1030859   2381.35  2382.71  2342.3382  2350.64    1030859      0.0   \n",
       "1255  1163892   2398.69  2416.41  2390.0000  2400.00    1163892      0.0   \n",
       "1256  1300271   2341.66  2378.00  2334.7300  2374.89    1300271      0.0   \n",
       "\n",
       "      splitFactor  \n",
       "1252          1.0  \n",
       "1253          1.0  \n",
       "1254          1.0  \n",
       "1255          1.0  \n",
       "1256          1.0  "
      ]
     },
     "execution_count": 7,
     "metadata": {},
     "output_type": "execute_result"
    }
   ],
   "source": [
    "df.tail()"
   ]
  },
  {
   "cell_type": "code",
   "execution_count": 8,
   "id": "1cf882b9",
   "metadata": {},
   "outputs": [
    {
     "data": {
      "text/plain": [
       "symbol         1257\n",
       "date           1257\n",
       "close          1257\n",
       "high           1257\n",
       "low            1257\n",
       "open           1257\n",
       "volume         1257\n",
       "adjClose       1257\n",
       "adjHigh        1257\n",
       "adjLow         1257\n",
       "adjOpen        1257\n",
       "adjVolume      1257\n",
       "divCash        1257\n",
       "splitFactor    1257\n",
       "dtype: int64"
      ]
     },
     "execution_count": 8,
     "metadata": {},
     "output_type": "execute_result"
    }
   ],
   "source": [
    "df.count()"
   ]
  },
  {
   "cell_type": "code",
   "execution_count": 9,
   "id": "207bc853",
   "metadata": {},
   "outputs": [],
   "source": [
    "df1 = df.reset_index()['close']"
   ]
  },
  {
   "cell_type": "code",
   "execution_count": 10,
   "id": "3d29c007",
   "metadata": {},
   "outputs": [
    {
     "data": {
      "text/plain": [
       "0        713.31\n",
       "1        710.83\n",
       "2        716.49\n",
       "3        706.23\n",
       "4        706.63\n",
       "         ...   \n",
       "1252    2354.25\n",
       "1253    2356.74\n",
       "1254    2381.35\n",
       "1255    2398.69\n",
       "1256    2341.66\n",
       "Name: close, Length: 1257, dtype: float64"
      ]
     },
     "execution_count": 10,
     "metadata": {},
     "output_type": "execute_result"
    }
   ],
   "source": [
    "df1"
   ]
  },
  {
   "cell_type": "code",
   "execution_count": 11,
   "id": "332bdb12",
   "metadata": {},
   "outputs": [],
   "source": [
    "import matplotlib.pyplot as plt"
   ]
  },
  {
   "cell_type": "code",
   "execution_count": 12,
   "id": "118a0d26",
   "metadata": {},
   "outputs": [
    {
     "data": {
      "text/plain": [
       "[<matplotlib.lines.Line2D at 0x1adff54d3a0>]"
      ]
     },
     "execution_count": 12,
     "metadata": {},
     "output_type": "execute_result"
    },
    {
     "data": {
      "image/png": "[encoded data removed]",
      "text/plain": [
       "<Figure size 432x288 with 1 Axes>"
      ]
     },
     "metadata": {
      "needs_background": "light"
     },
     "output_type": "display_data"
    }
   ],
   "source": [
    "plt.plot(df1)"
   ]
  },
  {
   "cell_type": "code",
   "execution_count": 13,
   "id": "bf2874a1",
   "metadata": {},
   "outputs": [
    {
     "data": {
      "text/plain": [
       "(1257,)"
      ]
     },
     "execution_count": 13,
     "metadata": {},
     "output_type": "execute_result"
    }
   ],
   "source": [
    "df1.shape"
   ]
  },
  {
   "cell_type": "code",
   "execution_count": 14,
   "id": "101a9a36",
   "metadata": {},
   "outputs": [],
   "source": [
    "from sklearn.preprocessing import MinMaxScaler\n",
    "scaler = MinMaxScaler(feature_range=(0,1))\n",
    "df1 = scaler.fit_transform(np.array(df1).reshape(-1,1))"
   ]
  },
  {
   "cell_type": "code",
   "execution_count": 15,
   "id": "9b54d71a",
   "metadata": {},
   "outputs": [
    {
     "data": {
      "text/plain": [
       "(1257, 1)"
      ]
     },
     "execution_count": 15,
     "metadata": {},
     "output_type": "execute_result"
    }
   ],
   "source": [
    "df1.shape"
   ]
  },
  {
   "cell_type": "code",
   "execution_count": 16,
   "id": "91b85200",
   "metadata": {},
   "outputs": [
    {
     "data": {
      "text/plain": [
       "array([[0.02557291],\n",
       "       [0.02416512],\n",
       "       [0.02737805],\n",
       "       ...,\n",
       "       [0.97244597],\n",
       "       [0.98228913],\n",
       "       [0.9499157 ]])"
      ]
     },
     "execution_count": 16,
     "metadata": {},
     "output_type": "execute_result"
    }
   ],
   "source": [
    "df1"
   ]
  },
  {
   "cell_type": "code",
   "execution_count": 17,
   "id": "d388c38c",
   "metadata": {},
   "outputs": [
    {
     "data": {
      "text/plain": [
       "[<matplotlib.lines.Line2D at 0x1ad818b9b80>]"
      ]
     },
     "execution_count": 17,
     "metadata": {},
     "output_type": "execute_result"
    },
    {
     "data": {
      "image/png": "[encoded data removed]",
      "text/plain": [
       "<Figure size 432x288 with 1 Axes>"
      ]
     },
     "metadata": {
      "needs_background": "light"
     },
     "output_type": "display_data"
    }
   ],
   "source": [
    "plt.plot(df1)"
   ]
  },
  {
   "cell_type": "code",
   "execution_count": 18,
   "id": "a056e905",
   "metadata": {},
   "outputs": [],
   "source": [
    "train_size = int(len(df1)*0.65)\n",
    "test_size = len(df1) - train_size\n",
    "train_df, test_df = df1[0:train_size, :], df1[train_size : len(df1), : 1]"
   ]
  },
  {
   "cell_type": "code",
   "execution_count": 19,
   "id": "d4a390a0",
   "metadata": {},
   "outputs": [
    {
     "name": "stdout",
     "output_type": "stream",
     "text": [
      "817 440\n"
     ]
    }
   ],
   "source": [
    "print(train_size, test_size)"
   ]
  },
  {
   "cell_type": "code",
   "execution_count": 20,
   "id": "f680b1c8",
   "metadata": {},
   "outputs": [],
   "source": [
    "def create_dataset(dataset, timestamp=1):\n",
    "    dataX, datay = [], []\n",
    "    for i in range(len(dataset)-timestamp-1):\n",
    "        a = dataset[i:(i+timestamp),0]\n",
    "        dataX.append(a)\n",
    "        datay.append(dataset[i+timestamp, 0])\n",
    "    return np.array(dataX), np.array(datay)"
   ]
  },
  {
   "cell_type": "code",
   "execution_count": 21,
   "id": "bde6fc7a",
   "metadata": {},
   "outputs": [],
   "source": [
    "timestamp = 100\n",
    "X_train, y_train = create_dataset(train_df, timestamp)\n",
    "X_test, y_test = create_dataset(test_df, timestamp)"
   ]
  },
  {
   "cell_type": "code",
   "execution_count": 22,
   "id": "2831bd11",
   "metadata": {},
   "outputs": [
    {
     "data": {
      "text/plain": [
       "(array([[0.02557291, 0.02416512, 0.02737805, ..., 0.06059729, 0.06189154,\n",
       "         0.05920653],\n",
       "        [0.02416512, 0.02737805, 0.0215539 , ..., 0.06189154, 0.05920653,\n",
       "         0.06140336],\n",
       "        [0.02737805, 0.0215539 , 0.02178096, ..., 0.05920653, 0.06140336,\n",
       "         0.06142607],\n",
       "        ...,\n",
       "        [0.29364282, 0.29302407, 0.29291054, ..., 0.30696003, 0.29843384,\n",
       "         0.27477961],\n",
       "        [0.29302407, 0.29291054, 0.30119265, ..., 0.29843384, 0.27477961,\n",
       "         0.28478738],\n",
       "        [0.29291054, 0.30119265, 0.31545217, ..., 0.27477961, 0.28478738,\n",
       "         0.28708072]]),\n",
       " array([0.06140336, 0.06142607, 0.06164745, 0.06063702, 0.06680177,\n",
       "        0.0651726 , 0.0669153 , 0.06240243, 0.06259544, 0.06340719,\n",
       "        0.07209232, 0.07566856, 0.07306302, 0.07442539, 0.08222498,\n",
       "        0.07913694, 0.07425509, 0.07214341, 0.07215477, 0.06600705,\n",
       "        0.06547913, 0.05701538, 0.05328588, 0.05322344, 0.06486038,\n",
       "        0.06939596, 0.06644415, 0.05352997, 0.04868219, 0.03849844,\n",
       "        0.05121961, 0.05461987, 0.05845155, 0.0523833 , 0.05729921,\n",
       "        0.05677129, 0.05263875, 0.05303043, 0.05675426, 0.05823016,\n",
       "        0.05096416, 0.04521948, 0.04668404, 0.05350726, 0.05157156,\n",
       "        0.05842884, 0.06139768, 0.06870342, 0.06869206, 0.07256915,\n",
       "        0.07311978, 0.07356255, 0.06956058, 0.07149061, 0.0727508 ,\n",
       "        0.07169496, 0.0698217 , 0.06905536, 0.06998632, 0.06629655,\n",
       "        0.06501365, 0.05878646, 0.0669153 , 0.06734672, 0.07138843,\n",
       "        0.0782741 , 0.07855793, 0.07750209, 0.07927317, 0.07839331,\n",
       "        0.07925614, 0.07739991, 0.07822869, 0.07601767, 0.07763265,\n",
       "        0.08574445, 0.08833296, 0.09503131, 0.09303316, 0.08801508,\n",
       "        0.07609998, 0.07296084, 0.07233925, 0.07394856, 0.07562882,\n",
       "        0.07554367, 0.07873958, 0.07953997, 0.08020981, 0.08254287,\n",
       "        0.08570472, 0.08639158, 0.08555713, 0.08849758, 0.09071712,\n",
       "        0.09275501, 0.09224411, 0.09256768, 0.09104068, 0.09140398,\n",
       "        0.08795831, 0.09478721, 0.09217032, 0.09129045, 0.0905525 ,\n",
       "        0.09289692, 0.09486101, 0.09673995, 0.09933414, 0.10063407,\n",
       "        0.10067948, 0.10157638, 0.10247328, 0.10436925, 0.10225757,\n",
       "        0.09207382, 0.09157996, 0.08476241, 0.08297429, 0.08585798,\n",
       "        0.08665838, 0.09261309, 0.09266418, 0.09156293, 0.09666616,\n",
       "        0.09440688, 0.09261309, 0.09060927, 0.08878709, 0.08882115,\n",
       "        0.08803778, 0.08858841, 0.08815699, 0.09588279, 0.09568411,\n",
       "        0.09647315, 0.09842589, 0.09930008, 0.11040911, 0.11582455,\n",
       "        0.11550098, 0.11693148, 0.13493185, 0.13868406, 0.14088089,\n",
       "        0.14689804, 0.14952061, 0.14694913, 0.15101923, 0.14981012,\n",
       "        0.14788576, 0.1489189 , 0.1498385 , 0.15259731, 0.15595783,\n",
       "        0.14268604, 0.14871454, 0.15085461, 0.15531071, 0.15926159,\n",
       "        0.162747  , 0.17102343, 0.172119  , 0.17462237, 0.1683668 ,\n",
       "        0.1695532 , 0.17446342, 0.17905008, 0.17501405, 0.17749471,\n",
       "        0.17889682, 0.15983493, 0.15590107, 0.16186146, 0.16036285,\n",
       "        0.15556615, 0.15412998, 0.16411505, 0.16028905, 0.16529578,\n",
       "        0.16395611, 0.16878119, 0.16122001, 0.14706266, 0.15453302,\n",
       "        0.14164722, 0.13650426, 0.13081067, 0.13819588, 0.13534624,\n",
       "        0.14210135, 0.14789712, 0.14862939, 0.15642899, 0.15831928,\n",
       "        0.16333169, 0.16187281, 0.16867333, 0.17178976, 0.17023439,\n",
       "        0.1729421 , 0.17715411, 0.16032879, 0.15868258, 0.15090002,\n",
       "        0.15512338, 0.14886213, 0.14904946, 0.14879969, 0.14497369,\n",
       "        0.14742029, 0.14821501, 0.14675613, 0.14454795, 0.13565845,\n",
       "        0.13971719, 0.14441739, 0.14416194, 0.14685263, 0.13778149,\n",
       "        0.13760551, 0.13532921, 0.14556405, 0.14687534, 0.14362834,\n",
       "        0.14056868, 0.13938795, 0.14363402, 0.14833421, 0.15387454,\n",
       "        0.1527449 , 0.14769844, 0.14733514, 0.15195586, 0.14659151,\n",
       "        0.14805606, 0.14975335, 0.15146767, 0.14580247, 0.14306636,\n",
       "        0.14006346, 0.1439292 , 0.1494752 , 0.14996906, 0.14774385,\n",
       "        0.14345237, 0.14566055, 0.15680364, 0.1596476 , 0.16510277,\n",
       "        0.16178766, 0.16435347, 0.16088509, 0.17126184, 0.17633101,\n",
       "        0.17525814, 0.17276045, 0.18221193, 0.18140586, 0.18245602,\n",
       "        0.18377298, 0.18387516, 0.18423278, 0.17948718, 0.18161589,\n",
       "        0.17040468, 0.17159108, 0.17317484, 0.17273775, 0.19925296,\n",
       "        0.19802683, 0.19776003, 0.20278946, 0.20283487, 0.2067517 ,\n",
       "        0.20301652, 0.20723421, 0.21093533, 0.20605916, 0.20424834,\n",
       "        0.20293138, 0.20307329, 0.20018392, 0.20676305, 0.19915079,\n",
       "        0.19874775, 0.20789269, 0.20872714, 0.21136675, 0.21908687,\n",
       "        0.21522681, 0.20060966, 0.20046775, 0.19408729, 0.18756493,\n",
       "        0.19123766, 0.19874775, 0.20587183, 0.20934589, 0.2116449 ,\n",
       "        0.21129295, 0.21136675, 0.21621453, 0.22475208, 0.23210322,\n",
       "        0.22843616, 0.22518349, 0.22443419, 0.22244172, 0.22052304,\n",
       "        0.21633941, 0.2156412 , 0.21465347, 0.22521188, 0.23513451,\n",
       "        0.23735972, 0.24634571, 0.24901937, 0.24863337, 0.24656142,\n",
       "        0.2482133 , 0.25771587, 0.25743204, 0.26323348, 0.26199032,\n",
       "        0.26637262, 0.27676073, 0.28479874, 0.28154607, 0.2850258 ,\n",
       "        0.28813088, 0.28798329, 0.28123386, 0.28478171, 0.28351016,\n",
       "        0.25183495, 0.21998944, 0.23406731, 0.21589096, 0.18917707,\n",
       "        0.20976028, 0.21779829, 0.21788911, 0.22787986, 0.2391308 ,\n",
       "        0.24212803, 0.24647627, 0.25151706, 0.2488434 , 0.26028735,\n",
       "        0.26991479, 0.25546227, 0.24776485, 0.22777768, 0.23311365,\n",
       "        0.2399312 , 0.24227562, 0.25055205, 0.2598389 , 0.27916191,\n",
       "        0.28169366, 0.26674727, 0.27317314, 0.27322423, 0.26536219,\n",
       "        0.24497766, 0.24377991, 0.23990282, 0.21617479, 0.20055857,\n",
       "        0.21851921, 0.19120928, 0.19090274, 0.20636002, 0.19198697,\n",
       "        0.1959265 , 0.20258511, 0.20410075, 0.19231053, 0.19708452,\n",
       "        0.20627487, 0.19965032, 0.20676873, 0.20492953, 0.20987381,\n",
       "        0.23041161, 0.22923088, 0.23809767, 0.22973042, 0.22660264,\n",
       "        0.199656  , 0.20033719, 0.21104318, 0.2053723 , 0.19815171,\n",
       "        0.20949348, 0.20215369, 0.20177903, 0.21568093, 0.21941611,\n",
       "        0.21891657, 0.23529345, 0.24370044, 0.24409212, 0.24519337,\n",
       "        0.23328962, 0.23473147, 0.23292632, 0.22598389, 0.2334883 ,\n",
       "        0.22789689, 0.23355075, 0.2332953 , 0.23126309, 0.22255525,\n",
       "        0.22680131, 0.23655932, 0.25614913, 0.26738305, 0.26759308,\n",
       "        0.266015  , 0.25862412, 0.25692682, 0.26210385, 0.26740008,\n",
       "        0.2648286 , 0.27466608, 0.27474555, 0.28677986, 0.28371451,\n",
       "        0.28472494, 0.27781089, 0.2765734 , 0.25916339, 0.25555877,\n",
       "        0.24733911, 0.25315191, 0.25396366, 0.26066768, 0.24672037,\n",
       "        0.25885685, 0.26788259, 0.27576165, 0.27507479, 0.2756765 ,\n",
       "        0.29246777, 0.29549905, 0.29268348, 0.30116426, 0.29950671,\n",
       "        0.29444321, 0.29327952, 0.30496756, 0.32913835, 0.33800514,\n",
       "        0.34063339, 0.32370021, 0.31305098, 0.31164319, 0.31320425,\n",
       "        0.31668966, 0.31530458, 0.31590629, 0.32581189, 0.32773624,\n",
       "        0.32971736, 0.323195  , 0.32171909, 0.32574377, 0.31000834,\n",
       "        0.30552954, 0.3023904 , 0.30625614, 0.30276505, 0.30600637,\n",
       "        0.30489944, 0.31356755, 0.32558483, 0.31952794, 0.3298309 ,\n",
       "        0.32405216, 0.31217111, 0.30014248, 0.29417074, 0.28563319,\n",
       "        0.28188099, 0.28177313, 0.28899372, 0.28074   , 0.28784137,\n",
       "        0.28625194, 0.27689696, 0.27983175, 0.28543451, 0.29439213,\n",
       "        0.28259623, 0.28672877, 0.29313193, 0.29077048, 0.29880281,\n",
       "        0.29813866, 0.29918314, 0.30190789, 0.30352004, 0.28378831,\n",
       "        0.27763492, 0.27287796, 0.26711625, 0.23441926, 0.23334071,\n",
       "        0.25080181, 0.24068051, 0.25715956, 0.25398636, 0.23825094,\n",
       "        0.24307034, 0.24573832, 0.24717449, 0.21710007, 0.24256512,\n",
       "        0.22888461, 0.19971277, 0.20886906, 0.23189319, 0.22805016,\n",
       "        0.22111908, 0.21107156, 0.21999512, 0.24132763, 0.23508909,\n",
       "        0.22586468, 0.21024279, 0.20877823, 0.2130981 , 0.22504726,\n",
       "        0.2232194 , 0.19966735, 0.20293705, 0.20966378, 0.20186986,\n",
       "        0.21591367, 0.21352384, 0.23726322, 0.23843826, 0.241918  ,\n",
       "        0.24872987, 0.21716251, 0.22732923, 0.20907909, 0.21076503,\n",
       "        0.21769043, 0.22446257, 0.22345214, 0.21221255, 0.19769759,\n",
       "        0.20461164, 0.201376  , 0.19365588, 0.17669999, 0.17481537,\n",
       "        0.21071394, 0.21322298, 0.20936292, 0.20852847, 0.21434126,\n",
       "        0.19743079, 0.22845319, 0.22713623, 0.23161504, 0.23069544,\n",
       "        0.22823748, 0.22077848, 0.21368278, 0.2321089 , 0.23427735,\n",
       "        0.23934651, 0.24409212, 0.22834534, 0.231212  , 0.23026402,\n",
       "        0.23996526, 0.22809557, 0.22272554, 0.23886968, 0.25437237,\n",
       "        0.25118214, 0.26369896, 0.27118634, 0.25372524, 0.24434756,\n",
       "        0.24227562, 0.24224724, 0.25721065, 0.25652379, 0.25738095,\n",
       "        0.25282835, 0.25561554, 0.25291349, 0.24335984, 0.25096643,\n",
       "        0.25041581, 0.25366848, 0.25419072, 0.25638755, 0.26834806,\n",
       "        0.2722138 , 0.28029155, 0.27792442, 0.26965935, 0.26910305,\n",
       "        0.28808547, 0.29798539, 0.29805351, 0.29364282, 0.29302407,\n",
       "        0.29291054, 0.30119265, 0.31545217, 0.31974932, 0.30496756,\n",
       "        0.29787186, 0.2931149 , 0.28653009, 0.28395861, 0.28669471,\n",
       "        0.29868361, 0.3021236 , 0.30520597, 0.31036029, 0.30590419,\n",
       "        0.30402525, 0.3002844 , 0.30307159, 0.30446802, 0.31198946,\n",
       "        0.31382299, 0.31724596, 0.32247407, 0.3224911 , 0.32956977,\n",
       "        0.33848765, 0.33363419, 0.33786323, 0.34281887, 0.35156077,\n",
       "        0.29530605, 0.28372587, 0.28062079, 0.29355767, 0.29582262,\n",
       "        0.28714316, 0.28269841, 0.28049023, 0.2815631 , 0.26326187,\n",
       "        0.25668273, 0.28152904, 0.28991332, 0.28044482, 0.26713328,\n",
       "        0.27325261, 0.27426872, 0.26822318, 0.26407929, 0.2644653 ,\n",
       "        0.25442346, 0.25526927, 0.24714043, 0.20888041, 0.21842839,\n",
       "        0.21228067, 0.2134841 , 0.22580224, 0.23394243, 0.23300012,\n",
       "        0.23204078, 0.23870506, 0.23676368, 0.24082242, 0.2471234 ,\n",
       "        0.24640248, 0.25156247, 0.25750016, 0.25388986, 0.23733134,\n",
       "        0.23361319, 0.23146177, 0.23424329, 0.24391615, 0.25146597,\n",
       "        0.25732986, 0.2630121 , 0.25436102, 0.25917474, 0.26805856,\n",
       "        0.27017592, 0.2705676 , 0.27365565, 0.27549485, 0.2713907 ,\n",
       "        0.27137935, 0.26216629, 0.26669051, 0.27131123, 0.26654292,\n",
       "        0.26331295, 0.33046099, 0.32421678, 0.31611632, 0.31131395,\n",
       "        0.30696003, 0.29843384, 0.27477961, 0.28478738, 0.28708072,\n",
       "        0.3045702 ]))"
      ]
     },
     "execution_count": 22,
     "metadata": {},
     "output_type": "execute_result"
    }
   ],
   "source": [
    "X_train, y_train"
   ]
  },
  {
   "cell_type": "code",
   "execution_count": 23,
   "id": "984b5bfe",
   "metadata": {},
   "outputs": [
    {
     "name": "stdout",
     "output_type": "stream",
     "text": [
      "(716, 100) (716,)\n"
     ]
    }
   ],
   "source": [
    "print(X_train.shape, y_train.shape)"
   ]
  },
  {
   "cell_type": "code",
   "execution_count": 24,
   "id": "480b1534",
   "metadata": {
    "scrolled": true
   },
   "outputs": [
    {
     "name": "stdout",
     "output_type": "stream",
     "text": [
      "(339, 100) (339,)\n"
     ]
    }
   ],
   "source": [
    "print(X_test.shape, y_test.shape)"
   ]
  },
  {
   "cell_type": "code",
   "execution_count": 25,
   "id": "4f0b8d2c",
   "metadata": {},
   "outputs": [],
   "source": [
    "X_train = X_train.reshape(X_train.shape[0], X_train.shape[1], 1)\n",
    "X_test = X_test.reshape(X_test.shape[0], X_test.shape[1], 1)"
   ]
  },
  {
   "cell_type": "code",
   "execution_count": 26,
   "id": "6d4a7183",
   "metadata": {},
   "outputs": [],
   "source": [
    "from tensorflow.keras.models import Sequential\n",
    "from tensorflow.keras.layers import Dense\n",
    "from tensorflow.keras.layers import LSTM"
   ]
  },
  {
   "cell_type": "code",
   "execution_count": 37,
   "id": "32025117",
   "metadata": {},
   "outputs": [],
   "source": [
    "model = Sequential()\n",
    "model.add(LSTM(50, return_sequences = True, input_shape = (100,1)))\n",
    "model.add(LSTM(50, return_sequences = True))\n",
    "model.add(LSTM(100))\n",
    "model.add(Dense(1))\n",
    "model.compile(loss = 'mean_squared_error', optimizer = 'adam')"
   ]
  },
  {
   "cell_type": "code",
   "execution_count": 38,
   "id": "778d764e",
   "metadata": {},
   "outputs": [
    {
     "data": {
      "text/plain": [
       "'1.19.5'"
      ]
     },
     "execution_count": 38,
     "metadata": {},
     "output_type": "execute_result"
    }
   ],
   "source": [
    "np.__version__"
   ]
  },
  {
   "cell_type": "code",
   "execution_count": 39,
   "id": "2f17c090",
   "metadata": {},
   "outputs": [
    {
     "name": "stdout",
     "output_type": "stream",
     "text": [
      "Model: \"sequential_1\"\n",
      "_________________________________________________________________\n",
      "Layer (type)                 Output Shape              Param #   \n",
      "=================================================================\n",
      "lstm_3 (LSTM)                (None, 100, 50)           10400     \n",
      "_________________________________________________________________\n",
      "lstm_4 (LSTM)                (None, 100, 50)           20200     \n",
      "_________________________________________________________________\n",
      "lstm_5 (LSTM)                (None, 100)               60400     \n",
      "_________________________________________________________________\n",
      "dense_1 (Dense)              (None, 1)                 101       \n",
      "=================================================================\n",
      "Total params: 91,101\n",
      "Trainable params: 91,101\n",
      "Non-trainable params: 0\n",
      "_________________________________________________________________\n"
     ]
    }
   ],
   "source": [
    "model.summary()"
   ]
  },
  {
   "cell_type": "code",
   "execution_count": 40,
   "id": "3b3a1dde",
   "metadata": {},
   "outputs": [
    {
     "name": "stdout",
     "output_type": "stream",
     "text": [
      "Epoch 1/100\n",
      "12/12 [==============================] - 2s 188ms/step - loss: 0.0104 - val_loss: 0.0797\n",
      "Epoch 2/100\n",
      "12/12 [==============================] - 1s 116ms/step - loss: 0.0020 - val_loss: 0.0364\n",
      "Epoch 3/100\n",
      "12/12 [==============================] - 1s 116ms/step - loss: 0.0011 - val_loss: 0.0099\n",
      "Epoch 4/100\n",
      "12/12 [==============================] - 1s 117ms/step - loss: 5.7193e-04 - val_loss: 0.0037\n",
      "Epoch 5/100\n",
      "12/12 [==============================] - 1s 120ms/step - loss: 5.3000e-04 - val_loss: 0.0045\n",
      "Epoch 6/100\n",
      "12/12 [==============================] - 1s 117ms/step - loss: 4.9449e-04 - val_loss: 0.0052\n",
      "Epoch 7/100\n",
      "12/12 [==============================] - 1s 116ms/step - loss: 4.9777e-04 - val_loss: 0.0050\n",
      "Epoch 8/100\n",
      "12/12 [==============================] - 1s 117ms/step - loss: 4.7420e-04 - val_loss: 0.0056\n",
      "Epoch 9/100\n",
      "12/12 [==============================] - 1s 118ms/step - loss: 4.6484e-04 - val_loss: 0.0056\n",
      "Epoch 10/100\n",
      "12/12 [==============================] - 1s 117ms/step - loss: 4.5569e-04 - val_loss: 0.0054\n",
      "Epoch 11/100\n",
      "12/12 [==============================] - 1s 118ms/step - loss: 4.5606e-04 - val_loss: 0.0057\n",
      "Epoch 12/100\n",
      "12/12 [==============================] - 1s 117ms/step - loss: 4.4255e-04 - val_loss: 0.0052\n",
      "Epoch 13/100\n",
      "12/12 [==============================] - 1s 117ms/step - loss: 4.4476e-04 - val_loss: 0.0091\n",
      "Epoch 14/100\n",
      "12/12 [==============================] - 1s 118ms/step - loss: 4.8481e-04 - val_loss: 0.0045\n",
      "Epoch 15/100\n",
      "12/12 [==============================] - 1s 122ms/step - loss: 4.5469e-04 - val_loss: 0.0062\n",
      "Epoch 16/100\n",
      "12/12 [==============================] - 1s 121ms/step - loss: 4.3067e-04 - val_loss: 0.0047\n",
      "Epoch 17/100\n",
      "12/12 [==============================] - 2s 129ms/step - loss: 4.2136e-04 - val_loss: 0.0077\n",
      "Epoch 18/100\n",
      "12/12 [==============================] - 1s 124ms/step - loss: 4.0411e-04 - val_loss: 0.0060\n",
      "Epoch 19/100\n",
      "12/12 [==============================] - 1s 117ms/step - loss: 3.8795e-04 - val_loss: 0.0069\n",
      "Epoch 20/100\n",
      "12/12 [==============================] - 1s 117ms/step - loss: 3.8340e-04 - val_loss: 0.0056\n",
      "Epoch 21/100\n",
      "12/12 [==============================] - 1s 121ms/step - loss: 4.1993e-04 - val_loss: 0.0095\n",
      "Epoch 22/100\n",
      "12/12 [==============================] - 1s 119ms/step - loss: 3.9588e-04 - val_loss: 0.0049\n",
      "Epoch 23/100\n",
      "12/12 [==============================] - 1s 119ms/step - loss: 4.0788e-04 - val_loss: 0.0052\n",
      "Epoch 24/100\n",
      "12/12 [==============================] - 1s 117ms/step - loss: 4.5717e-04 - val_loss: 0.0090\n",
      "Epoch 25/100\n",
      "12/12 [==============================] - 1s 118ms/step - loss: 3.8048e-04 - val_loss: 0.0095\n",
      "Epoch 26/100\n",
      "12/12 [==============================] - 1s 118ms/step - loss: 4.5617e-04 - val_loss: 0.0073\n",
      "Epoch 27/100\n",
      "12/12 [==============================] - 1s 119ms/step - loss: 3.7857e-04 - val_loss: 0.0098\n",
      "Epoch 28/100\n",
      "12/12 [==============================] - 1s 118ms/step - loss: 4.4862e-04 - val_loss: 0.0084\n",
      "Epoch 29/100\n",
      "12/12 [==============================] - 1s 119ms/step - loss: 3.5182e-04 - val_loss: 0.0074\n",
      "Epoch 30/100\n",
      "12/12 [==============================] - 1s 118ms/step - loss: 3.4379e-04 - val_loss: 0.0075\n",
      "Epoch 31/100\n",
      "12/12 [==============================] - 1s 118ms/step - loss: 3.7985e-04 - val_loss: 0.0110\n",
      "Epoch 32/100\n",
      "12/12 [==============================] - 1s 118ms/step - loss: 3.7725e-04 - val_loss: 0.0091\n",
      "Epoch 33/100\n",
      "12/12 [==============================] - 1s 118ms/step - loss: 3.4126e-04 - val_loss: 0.0084\n",
      "Epoch 34/100\n",
      "12/12 [==============================] - 1s 118ms/step - loss: 3.2714e-04 - val_loss: 0.0081\n",
      "Epoch 35/100\n",
      "12/12 [==============================] - 1s 118ms/step - loss: 3.2947e-04 - val_loss: 0.0079\n",
      "Epoch 36/100\n",
      "12/12 [==============================] - 1s 118ms/step - loss: 3.2897e-04 - val_loss: 0.0098\n",
      "Epoch 37/100\n",
      "12/12 [==============================] - 1s 121ms/step - loss: 3.1707e-04 - val_loss: 0.0096\n",
      "Epoch 38/100\n",
      "12/12 [==============================] - 1s 120ms/step - loss: 3.2393e-04 - val_loss: 0.0126\n",
      "Epoch 39/100\n",
      "12/12 [==============================] - 1s 120ms/step - loss: 3.3647e-04 - val_loss: 0.0114\n",
      "Epoch 40/100\n",
      "12/12 [==============================] - 1s 119ms/step - loss: 3.4999e-04 - val_loss: 0.0060\n",
      "Epoch 41/100\n",
      "12/12 [==============================] - 1s 118ms/step - loss: 3.9725e-04 - val_loss: 0.0128\n",
      "Epoch 42/100\n",
      "12/12 [==============================] - 1s 119ms/step - loss: 3.4493e-04 - val_loss: 0.0060\n",
      "Epoch 43/100\n",
      "12/12 [==============================] - 1s 118ms/step - loss: 3.6762e-04 - val_loss: 0.0148\n",
      "Epoch 44/100\n",
      "12/12 [==============================] - 1s 118ms/step - loss: 3.6363e-04 - val_loss: 0.0098\n",
      "Epoch 45/100\n",
      "12/12 [==============================] - 1s 120ms/step - loss: 3.5396e-04 - val_loss: 0.0115\n",
      "Epoch 46/100\n",
      "12/12 [==============================] - 1s 119ms/step - loss: 3.1620e-04 - val_loss: 0.0084\n",
      "Epoch 47/100\n",
      "12/12 [==============================] - 1s 118ms/step - loss: 3.0277e-04 - val_loss: 0.0133\n",
      "Epoch 48/100\n",
      "12/12 [==============================] - 1s 118ms/step - loss: 3.3021e-04 - val_loss: 0.0071\n",
      "Epoch 49/100\n",
      "12/12 [==============================] - 1s 120ms/step - loss: 3.7167e-04 - val_loss: 0.0123\n",
      "Epoch 50/100\n",
      "12/12 [==============================] - 1s 121ms/step - loss: 3.2723e-04 - val_loss: 0.0099\n",
      "Epoch 51/100\n",
      "12/12 [==============================] - 1s 121ms/step - loss: 3.1427e-04 - val_loss: 0.0120\n",
      "Epoch 52/100\n",
      "12/12 [==============================] - 1s 122ms/step - loss: 2.8207e-04 - val_loss: 0.0094\n",
      "Epoch 53/100\n",
      "12/12 [==============================] - 1s 120ms/step - loss: 3.1542e-04 - val_loss: 0.0125\n",
      "Epoch 54/100\n",
      "12/12 [==============================] - 1s 121ms/step - loss: 3.0114e-04 - val_loss: 0.0109\n",
      "Epoch 55/100\n",
      "12/12 [==============================] - 1s 123ms/step - loss: 2.8599e-04 - val_loss: 0.0091\n",
      "Epoch 56/100\n",
      "12/12 [==============================] - 1s 123ms/step - loss: 2.7772e-04 - val_loss: 0.0096\n",
      "Epoch 57/100\n",
      "12/12 [==============================] - 1s 121ms/step - loss: 2.7919e-04 - val_loss: 0.0088\n",
      "Epoch 58/100\n",
      "12/12 [==============================] - 1s 120ms/step - loss: 2.6408e-04 - val_loss: 0.0098\n",
      "Epoch 59/100\n",
      "12/12 [==============================] - 1s 123ms/step - loss: 2.5790e-04 - val_loss: 0.0132\n",
      "Epoch 60/100\n",
      "12/12 [==============================] - 1s 125ms/step - loss: 2.7250e-04 - val_loss: 0.0071\n",
      "Epoch 61/100\n",
      "12/12 [==============================] - 1s 121ms/step - loss: 3.0127e-04 - val_loss: 0.0087\n",
      "Epoch 62/100\n",
      "12/12 [==============================] - 1s 119ms/step - loss: 2.7510e-04 - val_loss: 0.0137\n",
      "Epoch 63/100\n",
      "12/12 [==============================] - 1s 120ms/step - loss: 2.8332e-04 - val_loss: 0.0079\n",
      "Epoch 64/100\n",
      "12/12 [==============================] - 1s 120ms/step - loss: 2.5077e-04 - val_loss: 0.0122\n",
      "Epoch 65/100\n",
      "12/12 [==============================] - 1s 123ms/step - loss: 2.9849e-04 - val_loss: 0.0083\n",
      "Epoch 66/100\n",
      "12/12 [==============================] - 1s 119ms/step - loss: 2.4459e-04 - val_loss: 0.0092\n",
      "Epoch 67/100\n",
      "12/12 [==============================] - 1s 121ms/step - loss: 2.3589e-04 - val_loss: 0.0078\n",
      "Epoch 68/100\n",
      "12/12 [==============================] - 1s 122ms/step - loss: 2.4266e-04 - val_loss: 0.0108\n",
      "Epoch 69/100\n",
      "12/12 [==============================] - 1s 125ms/step - loss: 2.3733e-04 - val_loss: 0.0128\n",
      "Epoch 70/100\n",
      "12/12 [==============================] - 1s 120ms/step - loss: 2.4793e-04 - val_loss: 0.0098\n",
      "Epoch 71/100\n",
      "12/12 [==============================] - 1s 124ms/step - loss: 2.3234e-04 - val_loss: 0.0096\n",
      "Epoch 72/100\n",
      "12/12 [==============================] - 1s 119ms/step - loss: 2.1975e-04 - val_loss: 0.0103\n",
      "Epoch 73/100\n",
      "12/12 [==============================] - 1s 119ms/step - loss: 2.3010e-04 - val_loss: 0.0090\n",
      "Epoch 74/100\n",
      "12/12 [==============================] - 1s 119ms/step - loss: 2.0955e-04 - val_loss: 0.0084\n",
      "Epoch 75/100\n",
      "12/12 [==============================] - 1s 120ms/step - loss: 2.1954e-04 - val_loss: 0.0103\n",
      "Epoch 76/100\n",
      "12/12 [==============================] - 1s 121ms/step - loss: 2.0218e-04 - val_loss: 0.0071\n",
      "Epoch 77/100\n",
      "12/12 [==============================] - 1s 120ms/step - loss: 2.0740e-04 - val_loss: 0.0101\n",
      "Epoch 78/100\n"
     ]
    },
    {
     "name": "stdout",
     "output_type": "stream",
     "text": [
      "12/12 [==============================] - 1s 120ms/step - loss: 2.4363e-04 - val_loss: 0.0077\n",
      "Epoch 79/100\n",
      "12/12 [==============================] - 1s 121ms/step - loss: 2.2307e-04 - val_loss: 0.0067\n",
      "Epoch 80/100\n",
      "12/12 [==============================] - 1s 121ms/step - loss: 2.0101e-04 - val_loss: 0.0095\n",
      "Epoch 81/100\n",
      "12/12 [==============================] - 1s 120ms/step - loss: 2.1666e-04 - val_loss: 0.0053\n",
      "Epoch 82/100\n",
      "12/12 [==============================] - 1s 120ms/step - loss: 2.1289e-04 - val_loss: 0.0081\n",
      "Epoch 83/100\n",
      "12/12 [==============================] - 1s 119ms/step - loss: 1.8996e-04 - val_loss: 0.0082\n",
      "Epoch 84/100\n",
      "12/12 [==============================] - 1s 120ms/step - loss: 2.2148e-04 - val_loss: 0.0034\n",
      "Epoch 85/100\n",
      "12/12 [==============================] - 1s 122ms/step - loss: 2.3376e-04 - val_loss: 0.0109\n",
      "Epoch 86/100\n",
      "12/12 [==============================] - 1s 119ms/step - loss: 2.0489e-04 - val_loss: 0.0027\n",
      "Epoch 87/100\n",
      "12/12 [==============================] - 1s 119ms/step - loss: 2.6204e-04 - val_loss: 0.0138\n",
      "Epoch 88/100\n",
      "12/12 [==============================] - 1s 121ms/step - loss: 2.3198e-04 - val_loss: 0.0039\n",
      "Epoch 89/100\n",
      "12/12 [==============================] - 1s 120ms/step - loss: 2.0460e-04 - val_loss: 0.0074\n",
      "Epoch 90/100\n",
      "12/12 [==============================] - 1s 119ms/step - loss: 1.6869e-04 - val_loss: 0.0072\n",
      "Epoch 91/100\n",
      "12/12 [==============================] - 1s 120ms/step - loss: 1.6557e-04 - val_loss: 0.0061\n",
      "Epoch 92/100\n",
      "12/12 [==============================] - 1s 119ms/step - loss: 1.7094e-04 - val_loss: 0.0078\n",
      "Epoch 93/100\n",
      "12/12 [==============================] - 1s 121ms/step - loss: 1.9256e-04 - val_loss: 0.0083\n",
      "Epoch 94/100\n",
      "12/12 [==============================] - 1s 120ms/step - loss: 1.6296e-04 - val_loss: 0.0065\n",
      "Epoch 95/100\n",
      "12/12 [==============================] - 1s 120ms/step - loss: 1.6601e-04 - val_loss: 0.0072\n",
      "Epoch 96/100\n",
      "12/12 [==============================] - 1s 120ms/step - loss: 1.8146e-04 - val_loss: 0.0033\n",
      "Epoch 97/100\n",
      "12/12 [==============================] - 1s 120ms/step - loss: 1.8391e-04 - val_loss: 0.0095\n",
      "Epoch 98/100\n",
      "12/12 [==============================] - 2s 133ms/step - loss: 1.7677e-04 - val_loss: 0.0027\n",
      "Epoch 99/100\n",
      "12/12 [==============================] - 1s 121ms/step - loss: 2.1184e-04 - val_loss: 0.0055\n",
      "Epoch 100/100\n",
      "12/12 [==============================] - 1s 120ms/step - loss: 1.8346e-04 - val_loss: 0.0076\n"
     ]
    },
    {
     "data": {
      "text/plain": [
       "<tensorflow.python.keras.callbacks.History at 0x1ae01694220>"
      ]
     },
     "execution_count": 40,
     "metadata": {},
     "output_type": "execute_result"
    }
   ],
   "source": [
    "model.fit(X_train, y_train, validation_data = (X_test, y_test), epochs = 100, batch_size = 64, verbose = 1)"
   ]
  },
  {
   "cell_type": "code",
   "execution_count": 41,
   "id": "de389e81",
   "metadata": {},
   "outputs": [],
   "source": [
    "train_pred = model.predict(X_train)\n",
    "test_pred = model.predict(X_test)"
   ]
  },
  {
   "cell_type": "code",
   "execution_count": 42,
   "id": "aa5a9371",
   "metadata": {},
   "outputs": [],
   "source": [
    "train_pred = scaler.inverse_transform(train_pred)\n",
    "test_pred = scaler.inverse_transform(test_pred)"
   ]
  },
  {
   "cell_type": "code",
   "execution_count": 43,
   "id": "6e0bcf91",
   "metadata": {},
   "outputs": [],
   "source": [
    "import math\n",
    "from sklearn.metrics import mean_squared_error"
   ]
  },
  {
   "cell_type": "code",
   "execution_count": 44,
   "id": "09275e50",
   "metadata": {},
   "outputs": [
    {
     "data": {
      "text/plain": [
       "1029.0316244309438"
      ]
     },
     "execution_count": 44,
     "metadata": {},
     "output_type": "execute_result"
    }
   ],
   "source": [
    "math.sqrt(mean_squared_error(y_train, train_pred))"
   ]
  },
  {
   "cell_type": "code",
   "execution_count": 45,
   "id": "aae1284e",
   "metadata": {},
   "outputs": [
    {
     "data": {
      "text/plain": [
       "1528.3613330595917"
      ]
     },
     "execution_count": 45,
     "metadata": {},
     "output_type": "execute_result"
    }
   ],
   "source": [
    "math.sqrt(mean_squared_error(y_test, test_pred))"
   ]
  },
  {
   "cell_type": "code",
   "execution_count": 48,
   "id": "241ffea2",
   "metadata": {
    "scrolled": true
   },
   "outputs": [
    {
     "data": {
      "image/png": "[encoded data removed]",
      "text/plain": [
       "<Figure size 432x288 with 1 Axes>"
      ]
     },
     "metadata": {
      "needs_background": "light"
     },
     "output_type": "display_data"
    }
   ],
   "source": [
    "look_back=100\n",
    "trainPredictPlot = np.empty_like(df1)\n",
    "trainPredictPlot[:, :] = np.nan\n",
    "trainPredictPlot[look_back:len(train_pred)+look_back, :] = train_pred\n",
    "# shift test predictions for plotting\n",
    "testPredictPlot = np.empty_like(df1)\n",
    "testPredictPlot[:, :] = np.nan\n",
    "testPredictPlot[len(train_pred)+(look_back*2)+1:len(df1)-1, :] = test_pred\n",
    "# plot baseline and predictions\n",
    "plt.plot(scaler.inverse_transform(df1))\n",
    "plt.plot(trainPredictPlot)\n",
    "plt.plot(testPredictPlot)\n",
    "plt.show()"
   ]
  },
  {
   "cell_type": "code",
   "execution_count": null,
   "id": "5c5e5e28",
   "metadata": {},
   "outputs": [],
   "source": []
  },
  {
   "cell_type": "code",
   "execution_count": null,
   "id": "4eb80656",
   "metadata": {},
   "outputs": [],
   "source": []
  },
  {
   "cell_type": "code",
   "execution_count": null,
   "id": "ef5c5ad6",
   "metadata": {},
   "outputs": [],
   "source": []
  },
  {
   "cell_type": "code",
   "execution_count": null,
   "id": "f6044f13",
   "metadata": {},
   "outputs": [],
   "source": []
  },
  {
   "cell_type": "code",
   "execution_count": null,
   "id": "b55bd51a",
   "metadata": {},
   "outputs": [],
   "source": []
  }
 ],
 "metadata": {
  "kernelspec": {
   "display_name": "Python 3",
   "language": "python",
   "name": "python3"
  },
  "language_info": {
   "codemirror_mode": {
    "name": "ipython",
    "version": 3
   },
   "file_extension": ".py",
   "mimetype": "text/x-python",
   "name": "python",
   "nbconvert_exporter": "python",
   "pygments_lexer": "ipython3",
   "version": "3.8.8"
  }
 },
 "nbformat": 4,
 "nbformat_minor": 5
}
