{
 "cells": [
  {
   "cell_type": "code",
   "execution_count": 39,
   "id": "ab90e25a",
   "metadata": {},
   "outputs": [],
   "source": [
    "import pandas as pd\n",
    "import pandas_datareader as pdr\n",
    "import numpy as np"
   ]
  },
  {
   "cell_type": "code",
   "execution_count": 41,
   "id": "e47c66a0",
   "metadata": {},
   "outputs": [
    {
     "name": "stdout",
     "output_type": "stream",
     "text": [
      "24d1fa8f1e68bedf4ca5a9d02fd58834bbc25ac3\n"
     ]
    }
   ],
   "source": [
    "key = '24d1fa8f1e68bedf4ca5a9d02fd58834bbc25ac3'\n",
    "print(key)"
   ]
  },
  {
   "cell_type": "code",
   "execution_count": 43,
   "id": "d689631b",
   "metadata": {},
   "outputs": [],
   "source": [
    "df = pdr.get_data_tiingo('AAPL', api_key = key)"
   ]
  },
  {
   "cell_type": "code",
   "execution_count": 45,
   "id": "9620cd52",
   "metadata": {},
   "outputs": [],
   "source": [
    "df.to_csv('AAPL.csv')"
   ]
  },
  {
   "cell_type": "code",
   "execution_count": 47,
   "id": "204477e8",
   "metadata": {},
   "outputs": [],
   "source": [
    "df = pd.read_csv('AAPL.csv')"
   ]
  },
  {
   "cell_type": "code",
   "execution_count": 49,
   "id": "586f081e",
   "metadata": {},
   "outputs": [
    {
     "data": {
      "text/html": [
       "<div>\n",
       "<style scoped>\n",
       "    .dataframe tbody tr th:only-of-type {\n",
       "        vertical-align: middle;\n",
       "    }\n",
       "\n",
       "    .dataframe tbody tr th {\n",
       "        vertical-align: top;\n",
       "    }\n",
       "\n",
       "    .dataframe thead th {\n",
       "        text-align: right;\n",
       "    }\n",
       "</style>\n",
       "<table border=\"1\" class=\"dataframe\">\n",
       "  <thead>\n",
       "    <tr style=\"text-align: right;\">\n",
       "      <th></th>\n",
       "      <th>Unnamed: 0</th>\n",
       "      <th>symbol</th>\n",
       "      <th>date</th>\n",
       "      <th>close</th>\n",
       "      <th>high</th>\n",
       "      <th>low</th>\n",
       "      <th>open</th>\n",
       "      <th>volume</th>\n",
       "      <th>adjClose</th>\n",
       "      <th>adjHigh</th>\n",
       "      <th>adjLow</th>\n",
       "      <th>adjOpen</th>\n",
       "      <th>adjVolume</th>\n",
       "      <th>divCash</th>\n",
       "      <th>splitFactor</th>\n",
       "    </tr>\n",
       "  </thead>\n",
       "  <tbody>\n",
       "    <tr>\n",
       "      <th>0</th>\n",
       "      <td>0</td>\n",
       "      <td>AAPL</td>\n",
       "      <td>2016-05-12 00:00:00+00:00</td>\n",
       "      <td>90.34</td>\n",
       "      <td>92.78</td>\n",
       "      <td>89.47</td>\n",
       "      <td>92.72</td>\n",
       "      <td>76314690</td>\n",
       "      <td>21.095605</td>\n",
       "      <td>21.665378</td>\n",
       "      <td>20.892448</td>\n",
       "      <td>21.651367</td>\n",
       "      <td>305258760</td>\n",
       "      <td>0.0</td>\n",
       "      <td>1.0</td>\n",
       "    </tr>\n",
       "    <tr>\n",
       "      <th>1</th>\n",
       "      <td>1</td>\n",
       "      <td>AAPL</td>\n",
       "      <td>2016-05-13 00:00:00+00:00</td>\n",
       "      <td>90.52</td>\n",
       "      <td>91.67</td>\n",
       "      <td>90.00</td>\n",
       "      <td>90.00</td>\n",
       "      <td>44392765</td>\n",
       "      <td>21.137637</td>\n",
       "      <td>21.406178</td>\n",
       "      <td>21.016210</td>\n",
       "      <td>21.016210</td>\n",
       "      <td>177571060</td>\n",
       "      <td>0.0</td>\n",
       "      <td>1.0</td>\n",
       "    </tr>\n",
       "    <tr>\n",
       "      <th>2</th>\n",
       "      <td>2</td>\n",
       "      <td>AAPL</td>\n",
       "      <td>2016-05-16 00:00:00+00:00</td>\n",
       "      <td>93.88</td>\n",
       "      <td>94.39</td>\n",
       "      <td>91.65</td>\n",
       "      <td>92.39</td>\n",
       "      <td>61259756</td>\n",
       "      <td>21.922242</td>\n",
       "      <td>22.041334</td>\n",
       "      <td>21.401507</td>\n",
       "      <td>21.574307</td>\n",
       "      <td>245039024</td>\n",
       "      <td>0.0</td>\n",
       "      <td>1.0</td>\n",
       "    </tr>\n",
       "    <tr>\n",
       "      <th>3</th>\n",
       "      <td>3</td>\n",
       "      <td>AAPL</td>\n",
       "      <td>2016-05-17 00:00:00+00:00</td>\n",
       "      <td>93.49</td>\n",
       "      <td>94.70</td>\n",
       "      <td>93.01</td>\n",
       "      <td>94.55</td>\n",
       "      <td>46916939</td>\n",
       "      <td>21.831172</td>\n",
       "      <td>22.113724</td>\n",
       "      <td>21.719086</td>\n",
       "      <td>22.078696</td>\n",
       "      <td>187667756</td>\n",
       "      <td>0.0</td>\n",
       "      <td>1.0</td>\n",
       "    </tr>\n",
       "    <tr>\n",
       "      <th>4</th>\n",
       "      <td>4</td>\n",
       "      <td>AAPL</td>\n",
       "      <td>2016-05-18 00:00:00+00:00</td>\n",
       "      <td>94.56</td>\n",
       "      <td>95.21</td>\n",
       "      <td>93.89</td>\n",
       "      <td>94.16</td>\n",
       "      <td>42062391</td>\n",
       "      <td>22.081032</td>\n",
       "      <td>22.232815</td>\n",
       "      <td>21.924578</td>\n",
       "      <td>21.987626</td>\n",
       "      <td>168249564</td>\n",
       "      <td>0.0</td>\n",
       "      <td>1.0</td>\n",
       "    </tr>\n",
       "  </tbody>\n",
       "</table>\n",
       "</div>"
      ],
      "text/plain": [
       "   Unnamed: 0 symbol                       date  close   high    low   open  \\\n",
       "0           0   AAPL  2016-05-12 00:00:00+00:00  90.34  92.78  89.47  92.72   \n",
       "1           1   AAPL  2016-05-13 00:00:00+00:00  90.52  91.67  90.00  90.00   \n",
       "2           2   AAPL  2016-05-16 00:00:00+00:00  93.88  94.39  91.65  92.39   \n",
       "3           3   AAPL  2016-05-17 00:00:00+00:00  93.49  94.70  93.01  94.55   \n",
       "4           4   AAPL  2016-05-18 00:00:00+00:00  94.56  95.21  93.89  94.16   \n",
       "\n",
       "     volume   adjClose    adjHigh     adjLow    adjOpen  adjVolume  divCash  \\\n",
       "0  76314690  21.095605  21.665378  20.892448  21.651367  305258760      0.0   \n",
       "1  44392765  21.137637  21.406178  21.016210  21.016210  177571060      0.0   \n",
       "2  61259756  21.922242  22.041334  21.401507  21.574307  245039024      0.0   \n",
       "3  46916939  21.831172  22.113724  21.719086  22.078696  187667756      0.0   \n",
       "4  42062391  22.081032  22.232815  21.924578  21.987626  168249564      0.0   \n",
       "\n",
       "   splitFactor  \n",
       "0          1.0  \n",
       "1          1.0  \n",
       "2          1.0  \n",
       "3          1.0  \n",
       "4          1.0  "
      ]
     },
     "execution_count": 49,
     "metadata": {},
     "output_type": "execute_result"
    }
   ],
   "source": [
    "df.head()"
   ]
  },
  {
   "cell_type": "code",
   "execution_count": 51,
   "id": "ceaca388",
   "metadata": {},
   "outputs": [
    {
     "data": {
      "text/html": [
       "<div>\n",
       "<style scoped>\n",
       "    .dataframe tbody tr th:only-of-type {\n",
       "        vertical-align: middle;\n",
       "    }\n",
       "\n",
       "    .dataframe tbody tr th {\n",
       "        vertical-align: top;\n",
       "    }\n",
       "\n",
       "    .dataframe thead th {\n",
       "        text-align: right;\n",
       "    }\n",
       "</style>\n",
       "<table border=\"1\" class=\"dataframe\">\n",
       "  <thead>\n",
       "    <tr style=\"text-align: right;\">\n",
       "      <th></th>\n",
       "      <th>Unnamed: 0</th>\n",
       "      <th>symbol</th>\n",
       "      <th>date</th>\n",
       "      <th>close</th>\n",
       "      <th>high</th>\n",
       "      <th>low</th>\n",
       "      <th>open</th>\n",
       "      <th>volume</th>\n",
       "      <th>adjClose</th>\n",
       "      <th>adjHigh</th>\n",
       "      <th>adjLow</th>\n",
       "      <th>adjOpen</th>\n",
       "      <th>adjVolume</th>\n",
       "      <th>divCash</th>\n",
       "      <th>splitFactor</th>\n",
       "    </tr>\n",
       "  </thead>\n",
       "  <tbody>\n",
       "    <tr>\n",
       "      <th>1252</th>\n",
       "      <td>1252</td>\n",
       "      <td>AAPL</td>\n",
       "      <td>2021-05-04 00:00:00+00:00</td>\n",
       "      <td>127.85</td>\n",
       "      <td>131.4899</td>\n",
       "      <td>126.700</td>\n",
       "      <td>131.19</td>\n",
       "      <td>137564718</td>\n",
       "      <td>127.634352</td>\n",
       "      <td>131.268112</td>\n",
       "      <td>126.486291</td>\n",
       "      <td>130.968718</td>\n",
       "      <td>137564718</td>\n",
       "      <td>0.00</td>\n",
       "      <td>1.0</td>\n",
       "    </tr>\n",
       "    <tr>\n",
       "      <th>1253</th>\n",
       "      <td>1253</td>\n",
       "      <td>AAPL</td>\n",
       "      <td>2021-05-05 00:00:00+00:00</td>\n",
       "      <td>128.10</td>\n",
       "      <td>130.4500</td>\n",
       "      <td>127.970</td>\n",
       "      <td>129.20</td>\n",
       "      <td>84000900</td>\n",
       "      <td>127.883930</td>\n",
       "      <td>130.229966</td>\n",
       "      <td>127.754149</td>\n",
       "      <td>128.982075</td>\n",
       "      <td>84000900</td>\n",
       "      <td>0.00</td>\n",
       "      <td>1.0</td>\n",
       "    </tr>\n",
       "    <tr>\n",
       "      <th>1254</th>\n",
       "      <td>1254</td>\n",
       "      <td>AAPL</td>\n",
       "      <td>2021-05-06 00:00:00+00:00</td>\n",
       "      <td>129.74</td>\n",
       "      <td>129.7500</td>\n",
       "      <td>127.130</td>\n",
       "      <td>127.89</td>\n",
       "      <td>78128334</td>\n",
       "      <td>129.521164</td>\n",
       "      <td>129.531147</td>\n",
       "      <td>126.915566</td>\n",
       "      <td>127.674284</td>\n",
       "      <td>78128334</td>\n",
       "      <td>0.00</td>\n",
       "      <td>1.0</td>\n",
       "    </tr>\n",
       "    <tr>\n",
       "      <th>1255</th>\n",
       "      <td>1255</td>\n",
       "      <td>AAPL</td>\n",
       "      <td>2021-05-07 00:00:00+00:00</td>\n",
       "      <td>130.21</td>\n",
       "      <td>131.2582</td>\n",
       "      <td>129.475</td>\n",
       "      <td>130.85</td>\n",
       "      <td>78973273</td>\n",
       "      <td>130.210000</td>\n",
       "      <td>131.258200</td>\n",
       "      <td>129.475000</td>\n",
       "      <td>130.850000</td>\n",
       "      <td>78973273</td>\n",
       "      <td>0.22</td>\n",
       "      <td>1.0</td>\n",
       "    </tr>\n",
       "    <tr>\n",
       "      <th>1256</th>\n",
       "      <td>1256</td>\n",
       "      <td>AAPL</td>\n",
       "      <td>2021-05-10 00:00:00+00:00</td>\n",
       "      <td>126.85</td>\n",
       "      <td>129.5400</td>\n",
       "      <td>126.810</td>\n",
       "      <td>129.41</td>\n",
       "      <td>88071229</td>\n",
       "      <td>126.850000</td>\n",
       "      <td>129.540000</td>\n",
       "      <td>126.810000</td>\n",
       "      <td>129.410000</td>\n",
       "      <td>88071229</td>\n",
       "      <td>0.00</td>\n",
       "      <td>1.0</td>\n",
       "    </tr>\n",
       "  </tbody>\n",
       "</table>\n",
       "</div>"
      ],
      "text/plain": [
       "      Unnamed: 0 symbol                       date   close      high      low  \\\n",
       "1252        1252   AAPL  2021-05-04 00:00:00+00:00  127.85  131.4899  126.700   \n",
       "1253        1253   AAPL  2021-05-05 00:00:00+00:00  128.10  130.4500  127.970   \n",
       "1254        1254   AAPL  2021-05-06 00:00:00+00:00  129.74  129.7500  127.130   \n",
       "1255        1255   AAPL  2021-05-07 00:00:00+00:00  130.21  131.2582  129.475   \n",
       "1256        1256   AAPL  2021-05-10 00:00:00+00:00  126.85  129.5400  126.810   \n",
       "\n",
       "        open     volume    adjClose     adjHigh      adjLow     adjOpen  \\\n",
       "1252  131.19  137564718  127.634352  131.268112  126.486291  130.968718   \n",
       "1253  129.20   84000900  127.883930  130.229966  127.754149  128.982075   \n",
       "1254  127.89   78128334  129.521164  129.531147  126.915566  127.674284   \n",
       "1255  130.85   78973273  130.210000  131.258200  129.475000  130.850000   \n",
       "1256  129.41   88071229  126.850000  129.540000  126.810000  129.410000   \n",
       "\n",
       "      adjVolume  divCash  splitFactor  \n",
       "1252  137564718     0.00          1.0  \n",
       "1253   84000900     0.00          1.0  \n",
       "1254   78128334     0.00          1.0  \n",
       "1255   78973273     0.22          1.0  \n",
       "1256   88071229     0.00          1.0  "
      ]
     },
     "execution_count": 51,
     "metadata": {},
     "output_type": "execute_result"
    }
   ],
   "source": [
    "df.tail()"
   ]
  },
  {
   "cell_type": "code",
   "execution_count": 53,
   "id": "1cf882b9",
   "metadata": {},
   "outputs": [
    {
     "data": {
      "text/plain": [
       "Unnamed: 0     1257\n",
       "symbol         1257\n",
       "date           1257\n",
       "close          1257\n",
       "high           1257\n",
       "low            1257\n",
       "open           1257\n",
       "volume         1257\n",
       "adjClose       1257\n",
       "adjHigh        1257\n",
       "adjLow         1257\n",
       "adjOpen        1257\n",
       "adjVolume      1257\n",
       "divCash        1257\n",
       "splitFactor    1257\n",
       "dtype: int64"
      ]
     },
     "execution_count": 53,
     "metadata": {},
     "output_type": "execute_result"
    }
   ],
   "source": [
    "df.count()"
   ]
  },
  {
   "cell_type": "code",
   "execution_count": 55,
   "id": "207bc853",
   "metadata": {},
   "outputs": [],
   "source": [
    "df1 = df.reset_index()['close']"
   ]
  },
  {
   "cell_type": "code",
   "execution_count": 57,
   "id": "3d29c007",
   "metadata": {},
   "outputs": [
    {
     "data": {
      "text/plain": [
       "0        90.34\n",
       "1        90.52\n",
       "2        93.88\n",
       "3        93.49\n",
       "4        94.56\n",
       "         ...  \n",
       "1252    127.85\n",
       "1253    128.10\n",
       "1254    129.74\n",
       "1255    130.21\n",
       "1256    126.85\n",
       "Name: close, Length: 1257, dtype: float64"
      ]
     },
     "execution_count": 57,
     "metadata": {},
     "output_type": "execute_result"
    }
   ],
   "source": [
    "df1"
   ]
  },
  {
   "cell_type": "code",
   "execution_count": 59,
   "id": "332bdb12",
   "metadata": {},
   "outputs": [],
   "source": [
    "import matplotlib.pyplot as plt"
   ]
  },
  {
   "cell_type": "code",
   "execution_count": 61,
   "id": "118a0d26",
   "metadata": {},
   "outputs": [
    {
     "data": {
      "text/plain": [
       "[<matplotlib.lines.Line2D at 0x1c9faddc0d0>]"
      ]
     },
     "execution_count": 61,
     "metadata": {},
     "output_type": "execute_result"
    },
    {
     "data": {
      "image/png": "[encoded data removed]",
      "text/plain": [
       "<Figure size 432x288 with 1 Axes>"
      ]
     },
     "metadata": {
      "needs_background": "light"
     },
     "output_type": "display_data"
    }
   ],
   "source": [
    "plt.plot(df1)"
   ]
  },
  {
   "cell_type": "code",
   "execution_count": 63,
   "id": "bf2874a1",
   "metadata": {},
   "outputs": [
    {
     "data": {
      "text/plain": [
       "(1257, 1)"
      ]
     },
     "execution_count": 63,
     "metadata": {},
     "output_type": "execute_result"
    }
   ],
   "source": [
    "df1.shape"
   ]
  },
  {
   "cell_type": "code",
   "execution_count": 65,
   "id": "101a9a36",
   "metadata": {},
   "outputs": [],
   "source": [
    "from sklearn.preprocessing import MinMaxScaler\n",
    "scaler = MinMaxScaler(feature_range=(0,1))\n",
    "df1 = scaler.fit_transform(np.array(df1).reshape(-1,1))"
   ]
  },
  {
   "cell_type": "code",
   "execution_count": 67,
   "id": "9b54d71a",
   "metadata": {},
   "outputs": [
    {
     "data": {
      "text/plain": [
       "(1257, 1)"
      ]
     },
     "execution_count": 67,
     "metadata": {},
     "output_type": "execute_result"
    }
   ],
   "source": [
    "df1.shape"
   ]
  },
  {
   "cell_type": "code",
   "execution_count": 69,
   "id": "91b85200",
   "metadata": {},
   "outputs": [
    {
     "data": {
      "text/plain": [
       "array([[0.        ],\n",
       "       [0.00043295],\n",
       "       [0.00851473],\n",
       "       ...,\n",
       "       [0.09476849],\n",
       "       [0.09589898],\n",
       "       [0.0878172 ]])"
      ]
     },
     "execution_count": 69,
     "metadata": {},
     "output_type": "execute_result"
    }
   ],
   "source": [
    "df1"
   ]
  },
  {
   "cell_type": "code",
   "execution_count": 71,
   "id": "d388c38c",
   "metadata": {},
   "outputs": [
    {
     "data": {
      "text/plain": [
       "[<matplotlib.lines.Line2D at 0x1c9fae656d0>]"
      ]
     },
     "execution_count": 71,
     "metadata": {},
     "output_type": "execute_result"
    },
    {
     "data": {
      "image/png": "[encoded data removed]",
      "text/plain": [
       "<Figure size 432x288 with 1 Axes>"
      ]
     },
     "metadata": {
      "needs_background": "light"
     },
     "output_type": "display_data"
    }
   ],
   "source": [
    "plt.plot(df1)"
   ]
  },
  {
   "cell_type": "code",
   "execution_count": 73,
   "id": "a056e905",
   "metadata": {},
   "outputs": [],
   "source": [
    "train_size = int(len(df1)*0.65)\n",
    "test_size = len(df1) - train_size\n",
    "train_df, test_df = df1[0:train_size, :], df1[train_size : len(df1), : 1]"
   ]
  },
  {
   "cell_type": "code",
   "execution_count": 75,
   "id": "d4a390a0",
   "metadata": {},
   "outputs": [
    {
     "name": "stdout",
     "output_type": "stream",
     "text": [
      "817 440\n"
     ]
    }
   ],
   "source": [
    "print(train_size, test_size)"
   ]
  },
  {
   "cell_type": "code",
   "execution_count": 77,
   "id": "f680b1c8",
   "metadata": {},
   "outputs": [],
   "source": [
    "def create_dataset(dataset, timestamp=1):\n",
    "    dataX, datay = [], []\n",
    "    for i in range(len(dataset)-timestamp-1):\n",
    "        a = dataset[i:(i+timestamp),0]\n",
    "        dataX.append(a)\n",
    "        datay.append(dataset[i+timestamp, 0])\n",
    "    return np.array(dataX), np.array(datay)"
   ]
  },
  {
   "cell_type": "code",
   "execution_count": 79,
   "id": "bde6fc7a",
   "metadata": {},
   "outputs": [],
   "source": [
    "timestamp = 100\n",
    "X_train, y_train = create_dataset(train_df, timestamp)\n",
    "X_test, y_test = create_dataset(test_df, timestamp)"
   ]
  },
  {
   "cell_type": "code",
   "execution_count": 81,
   "id": "2831bd11",
   "metadata": {},
   "outputs": [
    {
     "data": {
      "text/plain": [
       "(array([[0.        , 0.00043295, 0.00851473, ..., 0.05253157, 0.05462417,\n",
       "         0.05334937],\n",
       "        [0.00043295, 0.00851473, 0.00757667, ..., 0.05462417, 0.05334937,\n",
       "         0.05450391],\n",
       "        [0.00851473, 0.00757667, 0.01015033, ..., 0.05334937, 0.05450391,\n",
       "         0.05462417],\n",
       "        ...,\n",
       "        [0.22463019, 0.23037883, 0.23494889, ..., 0.28404089, 0.27343355,\n",
       "         0.24774504],\n",
       "        [0.23037883, 0.23494889, 0.231365  , ..., 0.27343355, 0.24774504,\n",
       "         0.25654841],\n",
       "        [0.23494889, 0.231365  , 0.23528563, ..., 0.24774504, 0.25654841,\n",
       "         0.2614552 ]]),\n",
       " array([0.05450391, 0.05462417, 0.05664462, 0.05705352, 0.06184005,\n",
       "        0.06244137, 0.06494287, 0.06407697, 0.06564041, 0.06544799,\n",
       "        0.06525556, 0.06441371, 0.06426939, 0.06316296, 0.06568851,\n",
       "        0.06713169, 0.06073361, 0.05806374, 0.05623572, 0.05580277,\n",
       "        0.05087192, 0.05111245, 0.04687913, 0.0444979 , 0.0482742 ,\n",
       "        0.04983764, 0.04940469, 0.04197234, 0.04351173, 0.03696933,\n",
       "        0.04033674, 0.04726398, 0.04716777, 0.04743235, 0.05144919,\n",
       "        0.05161756, 0.05024654, 0.05159351, 0.05106434, 0.05079976,\n",
       "        0.04853879, 0.04606133, 0.0470475 , 0.04514732, 0.04716777,\n",
       "        0.04976548, 0.05238725, 0.05678894, 0.0552255 , 0.0597715 ,\n",
       "        0.0597715 , 0.06128683, 0.06164762, 0.06325917, 0.06400481,\n",
       "        0.06426939, 0.06241732, 0.06297054, 0.06475045, 0.06354781,\n",
       "        0.06347565, 0.06128683, 0.06208058, 0.06176789, 0.06318701,\n",
       "        0.06631389, 0.06891161, 0.06920024, 0.07073963, 0.06953698,\n",
       "        0.06903187, 0.07134095, 0.0713169 , 0.07081179, 0.07134095,\n",
       "        0.07153337, 0.07126879, 0.0758629 , 0.07600722, 0.07603127,\n",
       "        0.07526158, 0.07458809, 0.09238725, 0.09185809, 0.093181  ,\n",
       "        0.0960914 , 0.09907396, 0.10030066, 0.10121467, 0.10049308,\n",
       "        0.10330728, 0.10746843, 0.10864702, 0.10825015, 0.10915213,\n",
       "        0.11150932, 0.11249549, 0.11110042, 0.11141311, 0.11206254,\n",
       "        0.11220686, 0.11894167, 0.11694528, 0.11891762, 0.11785929,\n",
       "        0.11829224, 0.11704149, 0.1162718 , 0.11737823, 0.11752255,\n",
       "        0.11701744, 0.12055322, 0.12110643, 0.11942273, 0.12295851,\n",
       "        0.11906194, 0.1228623 , 0.12165965, 0.12098617, 0.12156344,\n",
       "        0.12858689, 0.12935658, 0.12889958, 0.12825015, 0.12834636,\n",
       "        0.13092002, 0.12911606, 0.12825015, 0.12748046, 0.12707156,\n",
       "        0.12336741, 0.12377631, 0.12197234, 0.12384847, 0.12233313,\n",
       "        0.12108238, 0.12531569, 0.12490679, 0.12820204, 0.13034275,\n",
       "        0.12829826, 0.12856284, 0.1282261 , 0.1352736 , 0.13751052,\n",
       "        0.13642814, 0.13515334, 0.1409982 , 0.15073963, 0.15309681,\n",
       "        0.15134095, 0.1530006 , 0.15817198, 0.15720986, 0.15665664,\n",
       "        0.14410102, 0.14960914, 0.15085989, 0.15309681, 0.15263981,\n",
       "        0.15153337, 0.15280818, 0.1521828 , 0.15232712, 0.1501383 ,\n",
       "        0.15114853, 0.15660854, 0.1529525 , 0.15420325, 0.15641612,\n",
       "        0.1555021 , 0.1410463 , 0.13248346, 0.13529765, 0.13185809,\n",
       "        0.12976548, 0.12490679, 0.13469633, 0.13149729, 0.13356584,\n",
       "        0.13298857, 0.13455201, 0.13344558, 0.12841852, 0.13346963,\n",
       "        0.12829826, 0.12911606, 0.1278653 , 0.12928443, 0.12601323,\n",
       "        0.1295009 , 0.13161756, 0.13274805, 0.13325316, 0.1381359 ,\n",
       "        0.14119062, 0.14244137, 0.14369212, 0.1459531 , 0.1443175 ,\n",
       "        0.14414913, 0.14852676, 0.1500902 , 0.15182201, 0.14484666,\n",
       "        0.14229705, 0.14044498, 0.14361996, 0.16067348, 0.15689717,\n",
       "        0.15886951, 0.16469032, 0.16774504, 0.17010222, 0.15629585,\n",
       "        0.16149128, 0.16719182, 0.17140108, 0.16983764, 0.16240529,\n",
       "        0.16153939, 0.16084185, 0.16702345, 0.16750451, 0.16579675,\n",
       "        0.16721587, 0.17108839, 0.17455201, 0.17561034, 0.17717378,\n",
       "        0.17729405, 0.17255562, 0.17214672, 0.17058328, 0.16425737,\n",
       "        0.17116055, 0.16962117, 0.16671076, 0.16341551, 0.16726398,\n",
       "        0.16435358, 0.1644979 , 0.15809982, 0.15165364, 0.1480457 ,\n",
       "        0.14482261, 0.15105232, 0.15367408, 0.15138906, 0.1534095 ,\n",
       "        0.15266386, 0.15427541, 0.15187011, 0.15646422, 0.15624775,\n",
       "        0.1575466 , 0.15769092, 0.15925436, 0.15793145, 0.16031269,\n",
       "        0.16726398, 0.1686831 , 0.16697535, 0.15788334, 0.15853277,\n",
       "        0.15834035, 0.16057727, 0.15891762, 0.16132291, 0.17488876,\n",
       "        0.18371618, 0.18929645, 0.18412508, 0.18705953, 0.19761876,\n",
       "        0.20182802, 0.20317498, 0.20661455, 0.20574865, 0.20283824,\n",
       "        0.20115454, 0.19482862, 0.18939266, 0.19425135, 0.19196633,\n",
       "        0.19155743, 0.19915815, 0.20353578, 0.20355983, 0.20144317,\n",
       "        0.19898978, 0.19035478, 0.19605532, 0.19413109, 0.19112447,\n",
       "        0.19073963, 0.18922429, 0.18996993, 0.1900902 , 0.19802766,\n",
       "        0.19569453, 0.19706554, 0.19694528, 0.20115454, 0.2070475 ,\n",
       "        0.20252556, 0.20206855, 0.20365604, 0.20365604, 0.19297655,\n",
       "        0.19304871, 0.19420325, 0.18975346, 0.19704149, 0.19696933,\n",
       "        0.19889357, 0.20363199, 0.20206855, 0.20202044, 0.20192423,\n",
       "        0.20430547, 0.20865905, 0.20649429, 0.21349369, 0.21387853,\n",
       "        0.2119543 , 0.20844257, 0.20853879, 0.20175586, 0.19427541,\n",
       "        0.19523752, 0.18669874, 0.1843175 , 0.18542393, 0.18626578,\n",
       "        0.16875526, 0.15911004, 0.17484065, 0.16644618, 0.15588695,\n",
       "        0.15891762, 0.17407096, 0.17799158, 0.18527962, 0.19879735,\n",
       "        0.19745039, 0.19605532, 0.19417919, 0.19761876, 0.20483464,\n",
       "        0.213181  , 0.21178593, 0.2111365 , 0.20363199, 0.20654239,\n",
       "        0.20800962, 0.20764883, 0.20370415, 0.20829826, 0.21561034,\n",
       "        0.21979555, 0.21558629, 0.21190619, 0.2124113 , 0.21089597,\n",
       "        0.20435358, 0.20420926, 0.19466025, 0.18883945, 0.17943476,\n",
       "        0.19826819, 0.18761275, 0.18313891, 0.18626578, 0.18361996,\n",
       "        0.18773301, 0.19547805, 0.19834035, 0.18770896, 0.1917258 ,\n",
       "        0.19942273, 0.19747444, 0.20156344, 0.20298256, 0.20560433,\n",
       "        0.21142514, 0.21046302, 0.19834035, 0.18131088, 0.18015634,\n",
       "        0.17462417, 0.17633193, 0.17770295, 0.17313289, 0.18020445,\n",
       "        0.18944077, 0.2074083 , 0.20817799, 0.22487072, 0.22806975,\n",
       "        0.23021046, 0.2333614 , 0.23980758, 0.2363199 , 0.23526158,\n",
       "        0.23114853, 0.23533373, 0.23247144, 0.23083584, 0.23401082,\n",
       "        0.23288034, 0.23576669, 0.23526158, 0.23629585, 0.23466025,\n",
       "        0.23369814, 0.2321828 , 0.24028863, 0.24411305, 0.24767288,\n",
       "        0.24928443, 0.24803367, 0.24380036, 0.24266987, 0.24519543,\n",
       "        0.24139507, 0.2416356 , 0.23692123, 0.2366807 , 0.22934456,\n",
       "        0.23129284, 0.22879134, 0.22749248, 0.22087793, 0.22631389,\n",
       "        0.22566446, 0.22888755, 0.22794949, 0.23292844, 0.22508719,\n",
       "        0.22864702, 0.23482862, 0.24110643, 0.24055322, 0.23461215,\n",
       "        0.24218882, 0.2429104 , 0.24190018, 0.24319904, 0.24067348,\n",
       "        0.24423331, 0.24317498, 0.24358388, 0.24692724, 0.25130487,\n",
       "        0.24983764, 0.24206855, 0.23949489, 0.2404089 , 0.26737222,\n",
       "        0.28153939, 0.28298256, 0.28558028, 0.2808659 , 0.28120265,\n",
       "        0.28512327, 0.28187613, 0.28509922, 0.28721587, 0.28839447,\n",
       "        0.29580277, 0.30604931, 0.30095009, 0.29993987, 0.29996392,\n",
       "        0.30102225, 0.30263379, 0.30691521, 0.31114853, 0.31903788,\n",
       "        0.32396873, 0.33022249, 0.33197835, 0.32839447, 0.31932652,\n",
       "        0.31499699, 0.30785328, 0.32113049, 0.31444378, 0.32728803,\n",
       "        0.32110643, 0.3067709 , 0.3076368 , 0.30794949, 0.31194227,\n",
       "        0.30624173, 0.31377029, 0.3171377 , 0.31288034, 0.32377631,\n",
       "        0.32567649, 0.32933253, 0.33419122, 0.34090198, 0.33108839,\n",
       "        0.32218882, 0.32093806, 0.32839447, 0.30311485, 0.29852075,\n",
       "        0.31694528, 0.30552014, 0.31704149, 0.31473241, 0.30229705,\n",
       "        0.31021046, 0.31343355, 0.31843656, 0.30006013, 0.31138906,\n",
       "        0.30297054, 0.29320505, 0.29575466, 0.30912808, 0.31720986,\n",
       "        0.28175586, 0.2675887 , 0.27283223, 0.28769693, 0.28418521,\n",
       "        0.27451594, 0.24974143, 0.24507517, 0.23201443, 0.24310283,\n",
       "        0.24820204, 0.22975346, 0.20839447, 0.20791341, 0.19711365,\n",
       "        0.20271798, 0.20180397, 0.21791942, 0.21457607, 0.21224293,\n",
       "        0.22725195, 0.20769693, 0.20295851, 0.18797354, 0.19064342,\n",
       "        0.18831028, 0.18944077, 0.19389056, 0.18073361, 0.17702946,\n",
       "        0.18215274, 0.16969333, 0.15992784, 0.14525556, 0.13587492,\n",
       "        0.16074564, 0.15829224, 0.15848467, 0.16211666, 0.16254961,\n",
       "        0.12471437, 0.13931449, 0.13852075, 0.14530367, 0.15146121,\n",
       "        0.15263981, 0.14900782, 0.1434997 , 0.15088394, 0.15538184,\n",
       "        0.15759471, 0.15990379, 0.15143716, 0.15292844, 0.14999399,\n",
       "        0.16216476, 0.15865304, 0.15475646, 0.1801804 , 0.18304269,\n",
       "        0.18323512, 0.19461215, 0.20165965, 0.20180397, 0.19386651,\n",
       "        0.1925917 , 0.19023452, 0.19374624, 0.19203848, 0.19352977,\n",
       "        0.19261575, 0.19384245, 0.19648827, 0.19415514, 0.19874925,\n",
       "        0.20177992, 0.20202044, 0.2033193 , 0.1991822 , 0.20355983,\n",
       "        0.20567649, 0.20490679, 0.20247745, 0.19761876, 0.19860493,\n",
       "        0.21301263, 0.21784726, 0.2197715 , 0.22463019, 0.23037883,\n",
       "        0.23494889, 0.231365  , 0.23528563, 0.2519543 , 0.24223692,\n",
       "        0.2366807 , 0.23199038, 0.23603127, 0.23663259, 0.2395911 ,\n",
       "        0.24269393, 0.24938064, 0.25257968, 0.25339747, 0.25654841,\n",
       "        0.26400481, 0.26256164, 0.26525556, 0.26123873, 0.2610463 ,\n",
       "        0.26191221, 0.26196031, 0.27129284, 0.27304871, 0.27466025,\n",
       "        0.28175586, 0.28098617, 0.27646422, 0.27410704, 0.27485268,\n",
       "        0.26537583, 0.28906795, 0.2857727 , 0.29202646, 0.28416115,\n",
       "        0.27064342, 0.27073963, 0.26549609, 0.25698136, 0.22941672,\n",
       "        0.23648827, 0.24192423, 0.23990379, 0.23730607, 0.2230908 ,\n",
       "        0.23153337, 0.22234516, 0.21484065, 0.213181  , 0.21140108,\n",
       "        0.20935658, 0.21156945, 0.20380036, 0.19954299, 0.21479254,\n",
       "        0.22176789, 0.22821407, 0.24007216, 0.24591702, 0.25128082,\n",
       "        0.24978954, 0.24969333, 0.24630186, 0.24906795, 0.26003608,\n",
       "        0.25864101, 0.26246542, 0.26082983, 0.26034877, 0.25310884,\n",
       "        0.26328322, 0.26313891, 0.25876127, 0.26749248, 0.27033073,\n",
       "        0.27437162, 0.27393867, 0.26381239, 0.26674684, 0.27153337,\n",
       "        0.26797354, 0.27170174, 0.27629585, 0.27458809, 0.27182201,\n",
       "        0.27737823, 0.26999399, 0.28113049, 0.28502706, 0.28461816,\n",
       "        0.28064943, 0.28238124, 0.2870475 , 0.28488274, 0.29512928,\n",
       "        0.28404089, 0.27343355, 0.24774504, 0.25654841, 0.2614552 ,\n",
       "        0.27201443]))"
      ]
     },
     "execution_count": 81,
     "metadata": {},
     "output_type": "execute_result"
    }
   ],
   "source": [
    "X_train, y_train"
   ]
  },
  {
   "cell_type": "code",
   "execution_count": 83,
   "id": "984b5bfe",
   "metadata": {},
   "outputs": [
    {
     "name": "stdout",
     "output_type": "stream",
     "text": [
      "(716, 100) (716,)\n"
     ]
    }
   ],
   "source": [
    "print(X_train.shape, y_train.shape)"
   ]
  },
  {
   "cell_type": "code",
   "execution_count": 85,
   "id": "480b1534",
   "metadata": {
    "scrolled": true
   },
   "outputs": [
    {
     "name": "stdout",
     "output_type": "stream",
     "text": [
      "(339, 100, 1) (339,)\n"
     ]
    }
   ],
   "source": [
    "print(X_test.shape, y_test.shape)"
   ]
  },
  {
   "cell_type": "code",
   "execution_count": 87,
   "id": "4f0b8d2c",
   "metadata": {},
   "outputs": [],
   "source": [
    "X_train = X_train.reshape(X_train.shape[0], X_train.shape[1], 1)\n",
    "X_test = X_test.reshape(X_test.shape[0], X_test.shape[1], 1)"
   ]
  },
  {
   "cell_type": "code",
   "execution_count": 89,
   "id": "6d4a7183",
   "metadata": {},
   "outputs": [],
   "source": [
    "from tensorflow.keras.models import Sequential\n",
    "from tensorflow.keras.layers import Dense\n",
    "from tensorflow.keras.layers import LSTM"
   ]
  },
  {
   "cell_type": "code",
   "execution_count": 91,
   "id": "32025117",
   "metadata": {},
   "outputs": [],
   "source": [
    "model = Sequential()\n",
    "model.add(LSTM(50, return_sequences = True, input_shape = (100,1)))\n",
    "model.add(LSTM(50, return_sequences = True))\n",
    "model.add(LSTM(100))\n",
    "model.add(Dense(1))\n",
    "model.compile(loss = 'mean_squared_error', optimizer = 'adam')"
   ]
  },
  {
   "cell_type": "code",
   "execution_count": 93,
   "id": "778d764e",
   "metadata": {},
   "outputs": [
    {
     "data": {
      "text/plain": [
       "'1.19.5'"
      ]
     },
     "execution_count": 93,
     "metadata": {},
     "output_type": "execute_result"
    }
   ],
   "source": [
    "np.__version__"
   ]
  },
  {
   "cell_type": "code",
   "execution_count": 95,
   "id": "2f17c090",
   "metadata": {},
   "outputs": [
    {
     "name": "stdout",
     "output_type": "stream",
     "text": [
      "Model: \"sequential_2\"\n",
      "_________________________________________________________________\n",
      "Layer (type)                 Output Shape              Param #   \n",
      "=================================================================\n",
      "lstm_6 (LSTM)                (None, 100, 50)           10400     \n",
      "_________________________________________________________________\n",
      "lstm_7 (LSTM)                (None, 100, 50)           20200     \n",
      "_________________________________________________________________\n",
      "lstm_8 (LSTM)                (None, 100)               60400     \n",
      "_________________________________________________________________\n",
      "dense_2 (Dense)              (None, 1)                 101       \n",
      "=================================================================\n",
      "Total params: 91,101\n",
      "Trainable params: 91,101\n",
      "Non-trainable params: 0\n",
      "_________________________________________________________________\n"
     ]
    }
   ],
   "source": [
    "model.summary()"
   ]
  },
  {
   "cell_type": "code",
   "execution_count": 97,
   "id": "3b3a1dde",
   "metadata": {},
   "outputs": [
    {
     "name": "stdout",
     "output_type": "stream",
     "text": [
      "Epoch 1/100\n",
      "12/12 [==============================] - 2s 129ms/step - loss: 8.5351e-05 - val_loss: 0.0050\n",
      "Epoch 2/100\n",
      "12/12 [==============================] - 2s 128ms/step - loss: 8.9709e-05 - val_loss: 0.0049\n",
      "Epoch 3/100\n",
      "12/12 [==============================] - 2s 127ms/step - loss: 8.7618e-05 - val_loss: 0.0050\n",
      "Epoch 4/100\n",
      "12/12 [==============================] - 2s 128ms/step - loss: 9.6279e-05 - val_loss: 0.0047\n",
      "Epoch 5/100\n",
      "12/12 [==============================] - 2s 134ms/step - loss: 9.1581e-05 - val_loss: 0.0046\n",
      "Epoch 6/100\n",
      "12/12 [==============================] - 2s 146ms/step - loss: 8.5002e-05 - val_loss: 0.0048\n",
      "Epoch 7/100\n",
      "12/12 [==============================] - 2s 127ms/step - loss: 7.9187e-05 - val_loss: 0.0047\n",
      "Epoch 8/100\n",
      "12/12 [==============================] - 2s 126ms/step - loss: 7.8992e-05 - val_loss: 0.0045\n",
      "Epoch 9/100\n",
      "12/12 [==============================] - 2s 126ms/step - loss: 8.9412e-05 - val_loss: 0.0044\n",
      "Epoch 10/100\n",
      "12/12 [==============================] - 2s 125ms/step - loss: 1.0673e-04 - val_loss: 0.0055\n",
      "Epoch 11/100\n",
      "12/12 [==============================] - 2s 125ms/step - loss: 1.0530e-04 - val_loss: 0.0042\n",
      "Epoch 12/100\n",
      "12/12 [==============================] - 2s 126ms/step - loss: 8.2660e-05 - val_loss: 0.0044\n",
      "Epoch 13/100\n",
      "12/12 [==============================] - 2s 126ms/step - loss: 7.8825e-05 - val_loss: 0.0045\n",
      "Epoch 14/100\n",
      "12/12 [==============================] - 2s 126ms/step - loss: 7.6701e-05 - val_loss: 0.0042\n",
      "Epoch 15/100\n",
      "12/12 [==============================] - 2s 126ms/step - loss: 7.9231e-05 - val_loss: 0.0042\n",
      "Epoch 16/100\n",
      "12/12 [==============================] - 1s 125ms/step - loss: 7.9323e-05 - val_loss: 0.0040\n",
      "Epoch 17/100\n",
      "12/12 [==============================] - 2s 125ms/step - loss: 7.6701e-05 - val_loss: 0.0041\n",
      "Epoch 18/100\n",
      "12/12 [==============================] - 2s 126ms/step - loss: 8.3307e-05 - val_loss: 0.0042\n",
      "Epoch 19/100\n",
      "12/12 [==============================] - 2s 126ms/step - loss: 9.6284e-05 - val_loss: 0.0038\n",
      "Epoch 20/100\n",
      "12/12 [==============================] - 2s 126ms/step - loss: 7.6813e-05 - val_loss: 0.0042\n",
      "Epoch 21/100\n",
      "12/12 [==============================] - 2s 127ms/step - loss: 7.5405e-05 - val_loss: 0.0040\n",
      "Epoch 22/100\n",
      "12/12 [==============================] - 2s 126ms/step - loss: 8.5012e-05 - val_loss: 0.0043\n",
      "Epoch 23/100\n",
      "12/12 [==============================] - 2s 126ms/step - loss: 8.8554e-05 - val_loss: 0.0038\n",
      "Epoch 24/100\n",
      "12/12 [==============================] - 2s 127ms/step - loss: 8.3990e-05 - val_loss: 0.0039\n",
      "Epoch 25/100\n",
      "12/12 [==============================] - 2s 127ms/step - loss: 7.8843e-05 - val_loss: 0.0040\n",
      "Epoch 26/100\n",
      "12/12 [==============================] - 2s 127ms/step - loss: 7.3992e-05 - val_loss: 0.0038\n",
      "Epoch 27/100\n",
      "12/12 [==============================] - 2s 126ms/step - loss: 7.7932e-05 - val_loss: 0.0036\n",
      "Epoch 28/100\n",
      "12/12 [==============================] - 2s 126ms/step - loss: 9.8229e-05 - val_loss: 0.0042\n",
      "Epoch 29/100\n",
      "12/12 [==============================] - 2s 127ms/step - loss: 7.7801e-05 - val_loss: 0.0036\n",
      "Epoch 30/100\n",
      "12/12 [==============================] - 2s 127ms/step - loss: 7.1630e-05 - val_loss: 0.0040\n",
      "Epoch 31/100\n",
      "12/12 [==============================] - 2s 127ms/step - loss: 7.1529e-05 - val_loss: 0.0037\n",
      "Epoch 32/100\n",
      "12/12 [==============================] - 2s 130ms/step - loss: 7.7193e-05 - val_loss: 0.0036\n",
      "Epoch 33/100\n",
      "12/12 [==============================] - 2s 135ms/step - loss: 7.0548e-05 - val_loss: 0.0035\n",
      "Epoch 34/100\n",
      "12/12 [==============================] - 2s 129ms/step - loss: 8.0389e-05 - val_loss: 0.0036\n",
      "Epoch 35/100\n",
      "12/12 [==============================] - 2s 128ms/step - loss: 7.0257e-05 - val_loss: 0.0036\n",
      "Epoch 36/100\n",
      "12/12 [==============================] - 2s 128ms/step - loss: 7.8079e-05 - val_loss: 0.0035\n",
      "Epoch 37/100\n",
      "12/12 [==============================] - 2s 126ms/step - loss: 6.9082e-05 - val_loss: 0.0033\n",
      "Epoch 38/100\n",
      "12/12 [==============================] - 2s 128ms/step - loss: 8.6923e-05 - val_loss: 0.0034\n",
      "Epoch 39/100\n",
      "12/12 [==============================] - 2s 130ms/step - loss: 1.0358e-04 - val_loss: 0.0034\n",
      "Epoch 40/100\n",
      "12/12 [==============================] - 2s 129ms/step - loss: 8.1458e-05 - val_loss: 0.0035\n",
      "Epoch 41/100\n",
      "12/12 [==============================] - 2s 134ms/step - loss: 8.4902e-05 - val_loss: 0.0035\n",
      "Epoch 42/100\n",
      "12/12 [==============================] - 2s 147ms/step - loss: 8.0002e-05 - val_loss: 0.0033\n",
      "Epoch 43/100\n",
      "12/12 [==============================] - 2s 130ms/step - loss: 6.9753e-05 - val_loss: 0.0032\n",
      "Epoch 44/100\n",
      "12/12 [==============================] - 2s 130ms/step - loss: 7.1177e-05 - val_loss: 0.0033\n",
      "Epoch 45/100\n",
      "12/12 [==============================] - 2s 140ms/step - loss: 6.8155e-05 - val_loss: 0.0034\n",
      "Epoch 46/100\n",
      "12/12 [==============================] - 2s 140ms/step - loss: 6.7222e-05 - val_loss: 0.0032\n",
      "Epoch 47/100\n",
      "12/12 [==============================] - 2s 132ms/step - loss: 6.6953e-05 - val_loss: 0.0032\n",
      "Epoch 48/100\n",
      "12/12 [==============================] - 2s 137ms/step - loss: 6.9768e-05 - val_loss: 0.0033\n",
      "Epoch 49/100\n",
      "12/12 [==============================] - 2s 131ms/step - loss: 7.0135e-05 - val_loss: 0.0033\n",
      "Epoch 50/100\n",
      "12/12 [==============================] - 2s 130ms/step - loss: 6.7711e-05 - val_loss: 0.0033\n",
      "Epoch 51/100\n",
      "12/12 [==============================] - 2s 131ms/step - loss: 6.9678e-05 - val_loss: 0.0031\n",
      "Epoch 52/100\n",
      "12/12 [==============================] - 2s 133ms/step - loss: 6.5884e-05 - val_loss: 0.0031\n",
      "Epoch 53/100\n",
      "12/12 [==============================] - 2s 128ms/step - loss: 8.1650e-05 - val_loss: 0.0034\n",
      "Epoch 54/100\n",
      "12/12 [==============================] - 2s 130ms/step - loss: 6.7688e-05 - val_loss: 0.0032\n",
      "Epoch 55/100\n",
      "12/12 [==============================] - 2s 130ms/step - loss: 6.6176e-05 - val_loss: 0.0031\n",
      "Epoch 56/100\n",
      "12/12 [==============================] - 2s 133ms/step - loss: 6.1591e-05 - val_loss: 0.0033\n",
      "Epoch 57/100\n",
      "12/12 [==============================] - 2s 129ms/step - loss: 6.0758e-05 - val_loss: 0.0031\n",
      "Epoch 58/100\n",
      "12/12 [==============================] - 2s 130ms/step - loss: 5.9865e-05 - val_loss: 0.0031\n",
      "Epoch 59/100\n",
      "12/12 [==============================] - 2s 130ms/step - loss: 6.0094e-05 - val_loss: 0.0030\n",
      "Epoch 60/100\n",
      "12/12 [==============================] - 2s 126ms/step - loss: 6.1796e-05 - val_loss: 0.0030\n",
      "Epoch 61/100\n",
      "12/12 [==============================] - 2s 126ms/step - loss: 6.2838e-05 - val_loss: 0.0031\n",
      "Epoch 62/100\n",
      "12/12 [==============================] - 2s 127ms/step - loss: 6.1655e-05 - val_loss: 0.0034\n",
      "Epoch 63/100\n",
      "12/12 [==============================] - 2s 127ms/step - loss: 8.5747e-05 - val_loss: 0.0042\n",
      "Epoch 64/100\n",
      "12/12 [==============================] - 2s 126ms/step - loss: 1.4077e-04 - val_loss: 0.0034\n",
      "Epoch 65/100\n",
      "12/12 [==============================] - 2s 126ms/step - loss: 9.7394e-05 - val_loss: 0.0030\n",
      "Epoch 66/100\n",
      "12/12 [==============================] - 2s 126ms/step - loss: 9.4072e-05 - val_loss: 0.0030\n",
      "Epoch 67/100\n",
      "12/12 [==============================] - 2s 126ms/step - loss: 7.3782e-05 - val_loss: 0.0031\n",
      "Epoch 68/100\n",
      "12/12 [==============================] - 2s 128ms/step - loss: 5.7040e-05 - val_loss: 0.0030\n",
      "Epoch 69/100\n",
      "12/12 [==============================] - 2s 126ms/step - loss: 6.2158e-05 - val_loss: 0.0032\n",
      "Epoch 70/100\n",
      "12/12 [==============================] - 2s 126ms/step - loss: 5.9089e-05 - val_loss: 0.0030\n",
      "Epoch 71/100\n",
      "12/12 [==============================] - 2s 126ms/step - loss: 5.4408e-05 - val_loss: 0.0031\n",
      "Epoch 72/100\n",
      "12/12 [==============================] - 2s 126ms/step - loss: 5.4892e-05 - val_loss: 0.0030\n",
      "Epoch 73/100\n",
      "12/12 [==============================] - 2s 126ms/step - loss: 6.1640e-05 - val_loss: 0.0029\n",
      "Epoch 74/100\n",
      "12/12 [==============================] - 2s 127ms/step - loss: 5.9628e-05 - val_loss: 0.0029\n",
      "Epoch 75/100\n",
      "12/12 [==============================] - 2s 126ms/step - loss: 5.9809e-05 - val_loss: 0.0033\n",
      "Epoch 76/100\n",
      "12/12 [==============================] - 2s 128ms/step - loss: 6.9322e-05 - val_loss: 0.0031\n",
      "Epoch 77/100\n",
      "12/12 [==============================] - 2s 134ms/step - loss: 5.8944e-05 - val_loss: 0.0028\n",
      "Epoch 78/100\n"
     ]
    },
    {
     "name": "stdout",
     "output_type": "stream",
     "text": [
      "12/12 [==============================] - 2s 135ms/step - loss: 5.5475e-05 - val_loss: 0.0030\n",
      "Epoch 79/100\n",
      "12/12 [==============================] - 2s 134ms/step - loss: 5.8143e-05 - val_loss: 0.0033\n",
      "Epoch 80/100\n",
      "12/12 [==============================] - 2s 128ms/step - loss: 7.0056e-05 - val_loss: 0.0030\n",
      "Epoch 81/100\n",
      "12/12 [==============================] - 2s 126ms/step - loss: 5.2984e-05 - val_loss: 0.0032\n",
      "Epoch 82/100\n",
      "12/12 [==============================] - 1s 125ms/step - loss: 6.1083e-05 - val_loss: 0.0029\n",
      "Epoch 83/100\n",
      "12/12 [==============================] - 2s 126ms/step - loss: 5.2284e-05 - val_loss: 0.0031\n",
      "Epoch 84/100\n",
      "12/12 [==============================] - 2s 128ms/step - loss: 5.4664e-05 - val_loss: 0.0029\n",
      "Epoch 85/100\n",
      "12/12 [==============================] - 2s 129ms/step - loss: 5.0008e-05 - val_loss: 0.0032\n",
      "Epoch 86/100\n",
      "12/12 [==============================] - 2s 126ms/step - loss: 5.6687e-05 - val_loss: 0.0029\n",
      "Epoch 87/100\n",
      "12/12 [==============================] - 2s 128ms/step - loss: 5.1666e-05 - val_loss: 0.0030\n",
      "Epoch 88/100\n",
      "12/12 [==============================] - 2s 128ms/step - loss: 5.2333e-05 - val_loss: 0.0029\n",
      "Epoch 89/100\n",
      "12/12 [==============================] - 2s 125ms/step - loss: 5.4851e-05 - val_loss: 0.0029\n",
      "Epoch 90/100\n",
      "12/12 [==============================] - 2s 128ms/step - loss: 5.0310e-05 - val_loss: 0.0031\n",
      "Epoch 91/100\n",
      "12/12 [==============================] - 2s 125ms/step - loss: 5.0583e-05 - val_loss: 0.0032\n",
      "Epoch 92/100\n",
      "12/12 [==============================] - 2s 127ms/step - loss: 5.5836e-05 - val_loss: 0.0031\n",
      "Epoch 93/100\n",
      "12/12 [==============================] - 2s 125ms/step - loss: 5.1604e-05 - val_loss: 0.0030\n",
      "Epoch 94/100\n",
      "12/12 [==============================] - 1s 125ms/step - loss: 4.8004e-05 - val_loss: 0.0029\n",
      "Epoch 95/100\n",
      "12/12 [==============================] - 1s 125ms/step - loss: 5.4254e-05 - val_loss: 0.0031\n",
      "Epoch 96/100\n",
      "12/12 [==============================] - 2s 140ms/step - loss: 4.9359e-05 - val_loss: 0.0029\n",
      "Epoch 97/100\n",
      "12/12 [==============================] - 2s 135ms/step - loss: 5.0806e-05 - val_loss: 0.0029\n",
      "Epoch 98/100\n",
      "12/12 [==============================] - 2s 130ms/step - loss: 6.0893e-05 - val_loss: 0.0029\n",
      "Epoch 99/100\n",
      "12/12 [==============================] - 2s 128ms/step - loss: 8.2084e-05 - val_loss: 0.0035\n",
      "Epoch 100/100\n",
      "12/12 [==============================] - 1s 124ms/step - loss: 6.8004e-05 - val_loss: 0.0029\n"
     ]
    },
    {
     "data": {
      "text/plain": [
       "<tensorflow.python.keras.callbacks.History at 0x1ca0d7b9160>"
      ]
     },
     "execution_count": 97,
     "metadata": {},
     "output_type": "execute_result"
    }
   ],
   "source": [
    "model.fit(X_train, y_train, validation_data = (X_test, y_test), epochs = 100, batch_size = 64, verbose = 1)"
   ]
  },
  {
   "cell_type": "code",
   "execution_count": 99,
   "id": "de389e81",
   "metadata": {},
   "outputs": [],
   "source": [
    "train_pred = model.predict(X_train)\n",
    "test_pred = model.predict(X_test)"
   ]
  },
  {
   "cell_type": "code",
   "execution_count": 101,
   "id": "aa5a9371",
   "metadata": {},
   "outputs": [],
   "source": [
    "train_pred = scaler.inverse_transform(train_pred)\n",
    "test_pred = scaler.inverse_transform(test_pred)"
   ]
  },
  {
   "cell_type": "code",
   "execution_count": 103,
   "id": "6e0bcf91",
   "metadata": {},
   "outputs": [],
   "source": [
    "import math\n",
    "from sklearn.metrics import mean_squared_error"
   ]
  },
  {
   "cell_type": "code",
   "execution_count": 105,
   "id": "09275e50",
   "metadata": {},
   "outputs": [
    {
     "data": {
      "text/plain": [
       "0.006776903723698798"
      ]
     },
     "execution_count": 105,
     "metadata": {},
     "output_type": "execute_result"
    }
   ],
   "source": [
    "math.sqrt(mean_squared_error(y_train, train_pred))"
   ]
  },
  {
   "cell_type": "code",
   "execution_count": 107,
   "id": "aae1284e",
   "metadata": {},
   "outputs": [
    {
     "data": {
      "text/plain": [
       "0.054268591022716084"
      ]
     },
     "execution_count": 107,
     "metadata": {},
     "output_type": "execute_result"
    }
   ],
   "source": [
    "math.sqrt(mean_squared_error(y_test, test_pred))"
   ]
  },
  {
   "cell_type": "code",
   "execution_count": 108,
   "id": "241ffea2",
   "metadata": {
    "scrolled": true
   },
   "outputs": [
    {
     "data": {
      "image/png": "[encoded data removed]",
      "text/plain": [
       "<Figure size 432x288 with 1 Axes>"
      ]
     },
     "metadata": {
      "needs_background": "light"
     },
     "output_type": "display_data"
    }
   ],
   "source": [
    "look_back=100\n",
    "trainPredictPlot = np.empty_like(df1)\n",
    "trainPredictPlot[:, :] = np.nan\n",
    "trainPredictPlot[look_back:len(train_pred)+look_back, :] = train_pred\n",
    "# shift test predictions for plotting\n",
    "testPredictPlot = np.empty_like(df1)\n",
    "testPredictPlot[:, :] = np.nan\n",
    "testPredictPlot[len(train_pred)+(look_back*2)+1:len(df1)-1, :] = test_pred\n",
    "# plot baseline and predictions\n",
    "plt.plot(scaler.inverse_transform(df1))\n",
    "plt.plot(trainPredictPlot)\n",
    "plt.plot(testPredictPlot)\n",
    "plt.show()"
   ]
  },
  {
   "cell_type": "code",
   "execution_count": null,
   "id": "5c5e5e28",
   "metadata": {},
   "outputs": [],
   "source": []
  },
  {
   "cell_type": "code",
   "execution_count": null,
   "id": "4eb80656",
   "metadata": {},
   "outputs": [],
   "source": []
  },
  {
   "cell_type": "code",
   "execution_count": null,
   "id": "ef5c5ad6",
   "metadata": {},
   "outputs": [],
   "source": []
  },
  {
   "cell_type": "code",
   "execution_count": null,
   "id": "f6044f13",
   "metadata": {},
   "outputs": [],
   "source": []
  },
  {
   "cell_type": "code",
   "execution_count": null,
   "id": "b55bd51a",
   "metadata": {},
   "outputs": [],
   "source": []
  }
 ],
 "metadata": {
  "kernelspec": {
   "display_name": "Python 3",
   "language": "python",
   "name": "python3"
  },
  "language_info": {
   "codemirror_mode": {
    "name": "ipython",
    "version": 3
   },
   "file_extension": ".py",
   "mimetype": "text/x-python",
   "name": "python",
   "nbconvert_exporter": "python",
   "pygments_lexer": "ipython3",
   "version": "3.8.8"
  }
 },
 "nbformat": 4,
 "nbformat_minor": 5
}
